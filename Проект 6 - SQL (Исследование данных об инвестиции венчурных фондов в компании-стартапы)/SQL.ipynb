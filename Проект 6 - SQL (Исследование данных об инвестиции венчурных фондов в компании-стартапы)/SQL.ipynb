{
 "cells": [
  {
   "cell_type": "markdown",
   "id": "097a90bc-0b7b-4e1d-aa34-82242cb11e62",
   "metadata": {
    "tags": []
   },
   "source": [
    "# Поиск закономерностей в развитии компьютерных игр"
   ]
  },
  {
   "cell_type": "markdown",
   "id": "6bd8cfcd-0e13-4a33-a5f3-31e18b94d67f",
   "metadata": {},
   "source": [
    "**Цель исследования** - произвести различные выгрузки данных венчурных фондов с помощью SQL."
   ]
  },
  {
   "cell_type": "markdown",
   "id": "293a2c6a-659f-4467-b6f6-0f6fc2d95a28",
   "metadata": {},
   "source": [
    "**Описание данных**  - база данных, которая хранит информацию о венчурных фондах и инвестициях в компании-стартапы. Эта база данных основана на датасете Startup Investments, опубликованном на популярной платформе для соревнований по исследованию данных Kaggle."
   ]
  },
  {
   "cell_type": "markdown",
   "id": "6a112ee0-6a2f-4c5d-8f88-b35b1644d964",
   "metadata": {},
   "source": [
    "**acquisition** - cодержит информацию о покупках одних компаний другими. Таблица включает такие поля:\n",
    "\n",
    "- первичный ключ id — идентификатор или уникальный номер покупки;\n",
    "- внешний ключ acquiring_company_id — ссылается на таблицу company — идентификатор компании-покупателя, то есть той, что покупает другую компанию;\n",
    "- внешний ключ acquired_company_id — ссылается на таблицу company — идентификатор компании, которую покупают;\n",
    "- term_code — способ оплаты сделки:\n",
    "- cash — наличными;\n",
    "- stock — акциями компании;\n",
    "- cash_and_stock — смешанный тип оплаты: наличные и акции.\n",
    "- price_amount — сумма покупки в долларах;\n",
    "- acquired_at — дата совершения сделки;\n",
    "- created_at — дата и время создания записи в таблице;\n",
    "- updated_at — дата и время обновления записи в таблице."
   ]
  },
  {
   "cell_type": "markdown",
   "id": "86e5b5ac-8c40-4f45-9589-9341433cf716",
   "metadata": {},
   "source": [
    "---"
   ]
  },
  {
   "cell_type": "markdown",
   "id": "bd307e1f-ebfa-43c0-8cc9-68afb9c11448",
   "metadata": {},
   "source": [
    "**company** - cодержит информацию о компаниях-стартапах.\n",
    "\n",
    "- первичный ключ id — идентификатор, или уникальный номер компании;\n",
    "- name — название компании;\n",
    "- category_code — категория деятельности компании, например:\n",
    "- news — специализируется на работе с новостями;\n",
    "- social — специализируется на социальной работе.\n",
    "- status — статус компании:\n",
    "- acquired — приобретена;\n",
    "- operating — действует;\n",
    "- ipo — вышла на IPO;\n",
    "- closed — перестала существовать.\n",
    "- founded_at — дата основания компании;\n",
    "- closed_at — дата закрытия компании, которую указывают в том случае, если компании больше не существует;\n",
    "- domain — домен сайта компании;\n",
    "- twitter_username — название профиля компании в твиттере;\n",
    "- country_code — код страны, например, USA для США, GBR для Великобритании;\n",
    "- investment_rounds — число раундов, в которых компания участвовала как инвестор;\n",
    "- funding_rounds — число раундов, в которых компания привлекала инвестиции;\n",
    "- funding_total — сумма привлечённых инвестиций в долларах;\n",
    "- milestones — количество важных этапов в истории компании;\n",
    "- created_at — дата и время создания записи в таблице;\n",
    "- updated_at — дата и время обновления записи в таблице."
   ]
  },
  {
   "cell_type": "markdown",
   "id": "54cb0d70-b108-4589-a831-76006a3c4e2f",
   "metadata": {},
   "source": [
    "---"
   ]
  },
  {
   "cell_type": "markdown",
   "id": "12ec62d1-802e-4990-8115-79f706c2cbdc",
   "metadata": {},
   "source": [
    "**education** - хранит информацию об уровне образования сотрудников компаний.\n",
    "\n",
    "первичный ключ id — уникальный номер записи с информацией об образовании;\n",
    "внешний ключ person_id — ссылается на таблицу people — идентификатор человека, информация о котором представлена в записи;\n",
    "degree_type — учебная степень, например:\n",
    "BA — Bachelor of Arts — бакалавр гуманитарных наук;\n",
    "MS — Master of Science — магистр естественных наук.\n",
    "instituition — учебное заведение, название университета;\n",
    "graduated_at — дата завершения обучения, выпуска;\n",
    "created_at — дата и время создания записи в таблице;\n",
    "updated_at — дата и время обновления записи в таблице."
   ]
  },
  {
   "cell_type": "markdown",
   "id": "538d0a7b-f64f-4761-af32-3c69f2a48111",
   "metadata": {},
   "source": [
    "---"
   ]
  },
  {
   "cell_type": "markdown",
   "id": "3b2a9eda-d78e-4a13-8f1f-7ce2ca9546a3",
   "metadata": {},
   "source": [
    "**fund** - хранит информацию о венчурных фондах.\n",
    "\n",
    "- первичный ключ id — уникальный номер венчурного фонда;\n",
    "- name — название венчурного фонда;\n",
    "- founded_at — дата основания фонда;\n",
    "- domain — домен сайта фонда;\n",
    "- twitter_username — профиль фонда в твиттере;\n",
    "- country_code — код страны фонда;\n",
    "- investment_rounds — число инвестиционных раундов, в которых фонд принимал участие;\n",
    "- invested_companies — число компаний, в которые инвестировал фонд;\n",
    "- milestones — количество важных этапов в истории фонда;\n",
    "- created_at — дата и время создания записи в таблице;\n",
    "- updated_at — дата и время обновления записи в таблице."
   ]
  },
  {
   "cell_type": "markdown",
   "id": "278f83d7-6709-45aa-9b96-da696df2a948",
   "metadata": {},
   "source": [
    "---"
   ]
  },
  {
   "cell_type": "markdown",
   "id": "ec377dc1-ddf5-45dc-8256-2eb8e2bfc6aa",
   "metadata": {},
   "source": [
    "**funding_round** - содержит информацию о раундах инвестиций.\n",
    "\n",
    "- первичный ключ id — уникальный номер инвестиционного раунда;\n",
    "- внешний ключ company_id — ссылается на таблицу company — уникальный номер компании, участвовавшей в инвестиционном раунде;\n",
    "- funded_at — дата проведения раунда;\n",
    "- funding_round_type — тип инвестиционного раунда, например:\n",
    "- venture — венчурный раунд;\n",
    "- angel — ангельский раунд;\n",
    "- series_a — раунд А.\n",
    "- raised_amount — сумма инвестиций, которую привлекла компания в этом раунде в долларах;\n",
    "- pre_money_valuation — предварительная, проведённая до инвестиций оценка стоимости компании в долларах;\n",
    "- participants — количество участников инвестиционного раунда;\n",
    "- is_first_round — является ли этот раунд первым для компании;\n",
    "- is_last_round — является ли этот раунд последним для компании;\n",
    "- created_at — дата и время создания записи в таблице;\n",
    "- updated_at — дата и время обновления записи в таблице."
   ]
  },
  {
   "cell_type": "markdown",
   "id": "39115c5c-42f5-4720-b8ce-b9eb83fcb7d9",
   "metadata": {},
   "source": [
    "---"
   ]
  },
  {
   "cell_type": "markdown",
   "id": "31d9094b-14c3-45f4-a6cb-98d0d779795f",
   "metadata": {},
   "source": [
    "**investment** - содержит информацию об инвестициях венчурных фондов в компании-стартапы.\n",
    "\n",
    "- первичный ключ id — уникальный номер инвестиции;\n",
    "- внешний ключ funding_round_id — ссылается на таблицу funding_round — уникальный номер раунда инвестиции;\n",
    "- внешний ключ company_id — ссылается на таблицу company — уникальный номер компании-стартапа, в которую инвестируют;\n",
    "- внешний ключ fund_id — ссылается на таблицу fund — уникальный номер фонда, инвестирующего в компанию-стартап;\n",
    "- created_at — дата и время создания записи в таблице;\n",
    "- updated_at — дата и время обновления записи в таблице."
   ]
  },
  {
   "cell_type": "markdown",
   "id": "b4a73977-575e-4abd-b824-25a3be6d63db",
   "metadata": {},
   "source": [
    "---"
   ]
  },
  {
   "cell_type": "markdown",
   "id": "119f6d10-9a9d-4117-849a-7cb0dbcc539e",
   "metadata": {},
   "source": [
    "**people** - содержит информацию о сотрудниках компаний-стартапов.\n",
    "\n",
    "- первичный ключ id — уникальный номер сотрудника;\n",
    "- first_name — имя сотрудника;\n",
    "- last_name — фамилия сотрудника;\n",
    "- внешний ключ company_id — ссылается на таблицу company — уникальный номер компании-стартапа;\n",
    "- twitter_username — профиль сотрудника в твиттере;\n",
    "- created_at — дата и время создания записи в таблице;\n",
    "- updated_at — дата и время обновления записи в таблице."
   ]
  },
  {
   "cell_type": "markdown",
   "id": "dbbfcb61-61ea-440f-a1bd-7df0cd3b77d4",
   "metadata": {},
   "source": [
    "<div align='right'>Проектную работу выполнил студент Гагиев Денис. </div>"
   ]
  },
  {
   "cell_type": "markdown",
   "id": "cc71ad9b-fa9c-4f05-82db-c75ada312027",
   "metadata": {
    "jp-MarkdownHeadingCollapsed": true,
    "tags": []
   },
   "source": [
    "## ВЫПОЛНЕННЫЕ ЗАДАНИЯ:"
   ]
  },
  {
   "cell_type": "markdown",
   "id": "2f89e3ca-2db6-4b64-876b-6f14c45a375f",
   "metadata": {},
   "source": [
    "**Задание 1**  - Посчитайте, сколько компаний закрылось."
   ]
  },
  {
   "cell_type": "code",
   "execution_count": 5,
   "id": "2ca6bd79-1133-4e17-ad9e-486c253094a4",
   "metadata": {},
   "outputs": [
    {
     "data": {
      "text/plain": [
       "\"\\nSELECT\\n    COUNT(id)\\nFROM \\n    company\\nWHERE \\n    status LIKE '%closed%\\n\""
      ]
     },
     "execution_count": 5,
     "metadata": {},
     "output_type": "execute_result"
    }
   ],
   "source": [
    "'''\n",
    "SELECT COUNT(id)\n",
    "FROM company\n",
    "WHERE status LIKE '%closed%\n",
    "'''"
   ]
  },
  {
   "cell_type": "markdown",
   "id": "fbf1720f-3ec9-481f-a1ef-dea90adf5203",
   "metadata": {},
   "source": [
    "**Задание 2**  - Отобразите количество привлечённых средств для новостных компаний США. Используйте данные из таблицы company. Отсортируйте таблицу по убыванию значений в поле funding_total ."
   ]
  },
  {
   "cell_type": "code",
   "execution_count": 7,
   "id": "15ba0b95-70f9-4971-b9ea-e4462be1ec21",
   "metadata": {},
   "outputs": [
    {
     "data": {
      "text/plain": [
       "\"\\nSELECT funding_total\\nFROM company\\nWHERE category_code = 'news' AND country_code = 'USA'\\nORDER BY funding_total DESC\\n\""
      ]
     },
     "execution_count": 7,
     "metadata": {},
     "output_type": "execute_result"
    }
   ],
   "source": [
    "'''\n",
    "SELECT funding_total\n",
    "FROM company\n",
    "WHERE category_code = 'news' AND country_code = 'USA'\n",
    "ORDER BY funding_total DESC\n",
    "'''"
   ]
  },
  {
   "cell_type": "markdown",
   "id": "48f0ecc3-655d-467b-b2b8-41ef59e0dce3",
   "metadata": {},
   "source": [
    "**Задание 3**  - Найдите общую сумму сделок по покупке одних компаний другими в долларах. Отберите сделки, которые осуществлялись только за наличные с 2011 по 2013 год включительно."
   ]
  },
  {
   "cell_type": "code",
   "execution_count": 5,
   "id": "24f842e8-c7f2-471d-a8e0-8930322642fa",
   "metadata": {},
   "outputs": [
    {
     "data": {
      "text/plain": [
       "\"\\nSELECT\\n    COUNT(id)\\nFROM \\n    company\\nWHERE \\n    status LIKE '%closed%\\n\""
      ]
     },
     "execution_count": 5,
     "metadata": {},
     "output_type": "execute_result"
    }
   ],
   "source": [
    "'''\n",
    "SELECT SUM(price_amount)\n",
    "FROM acquisition\n",
    "WHERE term_code = 'cash'\n",
    "      AND EXTRACT(YEAR FROM CAST(acquired_at AS DATE)) IN ('2011', '2012', '2013')\n",
    "'''"
   ]
  },
  {
   "cell_type": "markdown",
   "id": "8301ef3e-8235-4393-9aed-cbf95583ea8e",
   "metadata": {},
   "source": [
    "**Задание 4**  - Отобразите имя, фамилию и названия аккаунтов людей в твиттере, у которых названия аккаунтов начинаются на 'Silver'."
   ]
  },
  {
   "cell_type": "code",
   "execution_count": 9,
   "id": "6381ce88-dca4-42bf-a520-5d23fc8398a9",
   "metadata": {},
   "outputs": [
    {
     "data": {
      "text/plain": [
       "\"\\nSELECT\\n    first_name,\\n    last_name,\\n    twitter_username\\nFROM people\\nWHERE twitter_username LIKE 'Silver%'\\n\""
      ]
     },
     "execution_count": 9,
     "metadata": {},
     "output_type": "execute_result"
    }
   ],
   "source": [
    "'''\n",
    "SELECT\n",
    "    first_name,\n",
    "    last_name,\n",
    "    twitter_username\n",
    "FROM people\n",
    "WHERE twitter_username LIKE 'Silver%'\n",
    "'''"
   ]
  },
  {
   "cell_type": "markdown",
   "id": "8fa17eee-3eb9-4e9e-b5ee-0625905bdca5",
   "metadata": {},
   "source": [
    "**Задание 5**  - Выведите на экран всю информацию о людях, у которых названия аккаунтов в твиттере содержат подстроку 'money', а фамилия начинается на 'K'."
   ]
  },
  {
   "cell_type": "code",
   "execution_count": 8,
   "id": "6649cd06-4f0c-48c6-b68a-d5fff5e25768",
   "metadata": {},
   "outputs": [
    {
     "data": {
      "text/plain": [
       "\"\\nSELECT *\\nFROM people\\nWHERE twitter_username LIKE '%money%' AND last_name LIKE 'K%'\\n\""
      ]
     },
     "execution_count": 8,
     "metadata": {},
     "output_type": "execute_result"
    }
   ],
   "source": [
    "'''\n",
    "SELECT *\n",
    "FROM people\n",
    "WHERE twitter_username LIKE '%money%' AND last_name LIKE 'K%'\n",
    "'''"
   ]
  },
  {
   "cell_type": "markdown",
   "id": "05a4c525-4d36-4a4a-b2c5-38dca09187d1",
   "metadata": {},
   "source": [
    "**Задание 6**  - Для каждой страны отобразите общую сумму привлечённых инвестиций, которые получили компании, зарегистрированные в этой стране. Страну, в которой зарегистрирована компания, можно определить по коду страны. Отсортируйте данные по убыванию суммы."
   ]
  },
  {
   "cell_type": "code",
   "execution_count": 10,
   "id": "e2ccec98-baf7-4c55-8878-1cf83e8b4d6c",
   "metadata": {},
   "outputs": [
    {
     "data": {
      "text/plain": [
       "'\\nSELECT\\n    country_code,\\n    SUM(funding_total)\\nFROM company\\nGROUP BY country_code\\nORDER BY SUM(funding_total) DESC\\n'"
      ]
     },
     "execution_count": 10,
     "metadata": {},
     "output_type": "execute_result"
    }
   ],
   "source": [
    "'''\n",
    "SELECT\n",
    "    country_code,\n",
    "    SUM(funding_total)\n",
    "FROM company\n",
    "GROUP BY country_code\n",
    "ORDER BY SUM(funding_total) DESC\n",
    "'''"
   ]
  },
  {
   "cell_type": "markdown",
   "id": "d7d4990c-02ac-46a4-97db-fb16387b1ea4",
   "metadata": {},
   "source": [
    "**Задание 7**  - Составьте таблицу, в которую войдёт дата проведения раунда, а также минимальное и максимальное значения суммы инвестиций, привлечённых в эту дату.\n",
    "Оставьте в итоговой таблице только те записи, в которых минимальное значение суммы инвестиций не равно нулю и не равно максимальному значению."
   ]
  },
  {
   "cell_type": "code",
   "execution_count": 11,
   "id": "afadff29-b3ee-4343-8f42-68c5ea667124",
   "metadata": {},
   "outputs": [
    {
     "data": {
      "text/plain": [
       "'\\nSELECT\\n    funded_at,\\n    MIN(raised_amount),\\n    MAX(raised_amount) \\nFROM funding_round\\nGROUP BY funded_at\\nHAVING MIN(raised_amount) != 0 AND MIN(raised_amount) !=  MAX(raised_amount)\\n'"
      ]
     },
     "execution_count": 11,
     "metadata": {},
     "output_type": "execute_result"
    }
   ],
   "source": [
    "'''\n",
    "SELECT\n",
    "    funded_at,\n",
    "    MIN(raised_amount),\n",
    "    MAX(raised_amount) \n",
    "FROM funding_round\n",
    "GROUP BY funded_at\n",
    "HAVING MIN(raised_amount) != 0 AND MIN(raised_amount) !=  MAX(raised_amount)\n",
    "'''"
   ]
  },
  {
   "cell_type": "markdown",
   "id": "49d3785a-d672-47b9-991f-31bb732c2c4e",
   "metadata": {},
   "source": [
    "**Задание 8**  - Создайте поле с категориями:\n",
    "- Для фондов, которые инвестируют в 100 и более компаний, назначьте категорию high_activity.\n",
    "- Для фондов, которые инвестируют в 20 и более компаний до 100, назначьте категорию middle_activity.\n",
    "- Если количество инвестируемых компаний фонда не достигает 20, назначьте категорию low_activity.  \n",
    "\n",
    "Отобразите все поля таблицы fund и новое поле с категориями."
   ]
  },
  {
   "cell_type": "code",
   "execution_count": 12,
   "id": "f642b9e5-3a07-440b-adb2-912886cfe097",
   "metadata": {},
   "outputs": [
    {
     "data": {
      "text/plain": [
       "\"\\nSELECT *,\\nCASE\\n    WHEN invested_companies > 100 THEN 'high_activity'\\n    WHEN invested_companies BETWEEN '20' AND '100' THEN 'middle_activity'\\n    WHEN invested_companies < 20 THEN 'low_activity'\\nEND\\nFROM fund\\n\""
      ]
     },
     "execution_count": 12,
     "metadata": {},
     "output_type": "execute_result"
    }
   ],
   "source": [
    "'''\n",
    "SELECT *,\n",
    "CASE\n",
    "    WHEN invested_companies > 100 THEN 'high_activity'\n",
    "    WHEN invested_companies BETWEEN '20' AND '100' THEN 'middle_activity'\n",
    "    WHEN invested_companies < 20 THEN 'low_activity'\n",
    "END\n",
    "FROM fund\n",
    "'''"
   ]
  },
  {
   "cell_type": "markdown",
   "id": "fca17241-e41d-48cf-93d4-80dae2f4ee6d",
   "metadata": {},
   "source": [
    "**Задание 9**  - Для каждой из категорий, назначенных в предыдущем задании, посчитайте округлённое до ближайшего целого числа среднее количество инвестиционных раундов, в которых фонд принимал участие. Выведите на экран категории и среднее число инвестиционных раундов. Отсортируйте таблицу по возрастанию среднего."
   ]
  },
  {
   "cell_type": "code",
   "execution_count": 13,
   "id": "a9bf9649-8f82-49d4-97f1-7ff94d2860bc",
   "metadata": {},
   "outputs": [
    {
     "data": {
      "text/plain": [
       "\"\\nSELECT\\n       CASE\\n           WHEN invested_companies>=100 THEN 'high_activity'\\n           WHEN invested_companies>=20 THEN 'middle_activity'\\n           ELSE 'low_activity'\\n       END AS activity,\\n       ROUND(AVG(investment_rounds))\\nFROM fund\\nGROUP BY activity\\nORDER BY round;\\n\""
      ]
     },
     "execution_count": 13,
     "metadata": {},
     "output_type": "execute_result"
    }
   ],
   "source": [
    "'''\n",
    "SELECT\n",
    "       CASE\n",
    "           WHEN invested_companies>=100 THEN 'high_activity'\n",
    "           WHEN invested_companies>=20 THEN 'middle_activity'\n",
    "           ELSE 'low_activity'\n",
    "       END AS activity,\n",
    "       ROUND(AVG(investment_rounds))\n",
    "FROM fund\n",
    "GROUP BY activity\n",
    "ORDER BY round;\n",
    "'''"
   ]
  },
  {
   "cell_type": "markdown",
   "id": "73f9f203-8efa-4f4b-b838-f02846e98001",
   "metadata": {},
   "source": [
    "**Задание 10**  - Проанализируйте, в каких странах находятся фонды, которые чаще всего инвестируют в стартапы. \n",
    "\n",
    "Для каждой страны посчитайте минимальное, максимальное и среднее число компаний, в которые инвестировали фонды этой страны, основанные с 2010 по 2012 год включительно. Исключите страны с фондами, у которых минимальное число компаний, получивших инвестиции, равно нулю. \n",
    "\n",
    "Выгрузите десять самых активных стран-инвесторов: отсортируйте таблицу по среднему количеству компаний от большего к меньшему. Затем добавьте сортировку по коду страны в лексикографическом порядке."
   ]
  },
  {
   "cell_type": "code",
   "execution_count": 14,
   "id": "02db9246-19bc-4790-a9b0-600a1ff06e60",
   "metadata": {},
   "outputs": [
    {
     "data": {
      "text/plain": [
       "\"\\nSELECT\\n    country_code,\\n    MIN(invested_companies),\\n    MAX(invested_companies),\\n    AVG(invested_companies)\\nFROM fund\\nWHERE EXTRACT(YEAR FROM CAST(founded_at AS DATE)) IN ('2010', '2011', '2012')\\nGROUP BY country_code\\nHAVING MIN(invested_companies) > 0\\nORDER BY AVG(invested_companies) DESC, country_code\\nLIMIT 10\\n\""
      ]
     },
     "execution_count": 14,
     "metadata": {},
     "output_type": "execute_result"
    }
   ],
   "source": [
    "'''\n",
    "SELECT\n",
    "    country_code,\n",
    "    MIN(invested_companies),\n",
    "    MAX(invested_companies),\n",
    "    AVG(invested_companies)\n",
    "FROM fund\n",
    "WHERE EXTRACT(YEAR FROM CAST(founded_at AS DATE)) IN ('2010', '2011', '2012')\n",
    "GROUP BY country_code\n",
    "HAVING MIN(invested_companies) > 0\n",
    "ORDER BY AVG(invested_companies) DESC, country_code\n",
    "LIMIT 10\n",
    "'''"
   ]
  },
  {
   "cell_type": "markdown",
   "id": "99edf6f4-b1d3-4b1f-9a4d-7e081ba9843c",
   "metadata": {},
   "source": [
    "**Задание 11**  - Отобразите имя и фамилию всех сотрудников стартапов. Добавьте поле с названием учебного заведения, которое окончил сотрудник, если эта информация известна."
   ]
  },
  {
   "cell_type": "code",
   "execution_count": 15,
   "id": "9be87608-48ee-4453-862d-540e8dcdb4ca",
   "metadata": {},
   "outputs": [
    {
     "data": {
      "text/plain": [
       "'\\nSELECT\\n    p.first_name,\\n    p.last_name,\\n    ed.instituition\\nFROM people as p LEFT JOIN education as ed on p.id = ed.person_id\\n'"
      ]
     },
     "execution_count": 15,
     "metadata": {},
     "output_type": "execute_result"
    }
   ],
   "source": [
    "'''\n",
    "SELECT\n",
    "    p.first_name,\n",
    "    p.last_name,\n",
    "    ed.instituition\n",
    "FROM people as p LEFT JOIN education as ed on p.id = ed.person_id\n",
    "'''"
   ]
  },
  {
   "cell_type": "markdown",
   "id": "d5521ef7-e166-482e-98a7-a18727c65876",
   "metadata": {},
   "source": [
    "**Задание 12**  - Для каждой компании найдите количество учебных заведений, которые окончили её сотрудники. Выведите название компании и число уникальных названий учебных заведений. Составьте топ-5 компаний по количеству университетов."
   ]
  },
  {
   "cell_type": "code",
   "execution_count": 16,
   "id": "e7326ec2-48a3-43c0-92dc-a74a038f7583",
   "metadata": {},
   "outputs": [
    {
     "data": {
      "text/plain": [
       "'\\nSELECT\\n    com.name,\\n    COUNT(DISTINCT(ed.instituition))\\nFROM company as com INNER JOIN people as pe on com.id=pe.company_id\\n     INNER JOIN education as ed ON pe.id = ed.person_id\\nGROUP BY com.name\\nORDER BY COUNT(DISTINCT(ed.instituition)) DESC \\nLIMIT 5\\n'"
      ]
     },
     "execution_count": 16,
     "metadata": {},
     "output_type": "execute_result"
    }
   ],
   "source": [
    "'''\n",
    "SELECT\n",
    "    com.name,\n",
    "    COUNT(DISTINCT(ed.instituition))\n",
    "FROM company as com INNER JOIN people as pe on com.id=pe.company_id\n",
    "     INNER JOIN education as ed ON pe.id = ed.person_id\n",
    "GROUP BY com.name\n",
    "ORDER BY COUNT(DISTINCT(ed.instituition)) DESC \n",
    "LIMIT 5\n",
    "'''"
   ]
  },
  {
   "cell_type": "markdown",
   "id": "95890644-afeb-4dcb-af51-fdd2f89ec934",
   "metadata": {},
   "source": [
    "**Задание 13**  - Составьте список с уникальными названиями закрытых компаний, для которых первый раунд финансирования оказался последним."
   ]
  },
  {
   "cell_type": "code",
   "execution_count": 18,
   "id": "b273ff0a-80fe-42c6-8890-01f12e3e4318",
   "metadata": {},
   "outputs": [
    {
     "data": {
      "text/plain": [
       "\"\\nSELECT\\n    DISTINCT(co.name)\\nFROM company AS co LEFT JOIN funding_round as fr on co.id = fr.company_id\\nWHERE co.status = 'closed' AND fr.is_first_round = 1 and is_last_round = 1\\n\""
      ]
     },
     "execution_count": 18,
     "metadata": {},
     "output_type": "execute_result"
    }
   ],
   "source": [
    "'''\n",
    "SELECT\n",
    "    DISTINCT(co.name)\n",
    "FROM company AS co LEFT JOIN funding_round as fr on co.id = fr.company_id\n",
    "WHERE co.status = 'closed' AND fr.is_first_round = 1 and is_last_round = 1\n",
    "'''"
   ]
  },
  {
   "cell_type": "markdown",
   "id": "e7051271-cc7b-4485-9501-825240d61213",
   "metadata": {},
   "source": [
    "**Задание 14**  - Составьте список уникальных номеров сотрудников, которые работают в компаниях, отобранных в предыдущем задании."
   ]
  },
  {
   "cell_type": "code",
   "execution_count": 19,
   "id": "ec8c0a49-b46c-4fe1-b83b-a7a40b0f8ba8",
   "metadata": {},
   "outputs": [
    {
     "data": {
      "text/plain": [
       "\"\\nSELECT\\n    DISTINCT(id)\\nFROM people\\nWHERE company_id IN (\\n    SELECT\\n        co.id\\n    FROM company AS co LEFT JOIN funding_round as fr on co.id = fr.company_id\\n    WHERE co.status = 'closed' AND fr.is_first_round = '1' AND is_last_round = '1'\\n    )\\n\""
      ]
     },
     "execution_count": 19,
     "metadata": {},
     "output_type": "execute_result"
    }
   ],
   "source": [
    "'''\n",
    "SELECT\n",
    "    DISTINCT(id)\n",
    "FROM people\n",
    "WHERE company_id IN (\n",
    "    SELECT\n",
    "        co.id\n",
    "    FROM company AS co LEFT JOIN funding_round as fr on co.id = fr.company_id\n",
    "    WHERE co.status = 'closed' AND fr.is_first_round = '1' AND is_last_round = '1'\n",
    "    )\n",
    "'''"
   ]
  },
  {
   "cell_type": "markdown",
   "id": "fae63cbb-a2dc-4084-892f-c7372e939068",
   "metadata": {},
   "source": [
    "**Задание 15**  - Составьте таблицу, куда войдут уникальные пары с номерами сотрудников из предыдущей задачи и учебным заведением, которое окончил сотрудник."
   ]
  },
  {
   "cell_type": "code",
   "execution_count": 20,
   "id": "da32de46-5fbb-4401-a370-bf03a9a96544",
   "metadata": {},
   "outputs": [
    {
     "data": {
      "text/plain": [
       "\"\\nSELECT\\n    DISTINCT(pe.id),\\n    ed.instituition\\nFROM people AS pe RIGHT JOIN education AS ed on pe.id=ed.person_id\\nWHERE pe.company_id IN (SELECT\\n           co.id\\n       FROM company AS co LEFT JOIN funding_round AS fr ON co.id = fr.company_id\\n      WHERE co.status = 'closed' AND fr.is_first_round = '1' AND fr.is_last_round = '1')\\n\""
      ]
     },
     "execution_count": 20,
     "metadata": {},
     "output_type": "execute_result"
    }
   ],
   "source": [
    "'''\n",
    "SELECT\n",
    "    DISTINCT(pe.id),\n",
    "    ed.instituition\n",
    "FROM people AS pe RIGHT JOIN education AS ed on pe.id=ed.person_id\n",
    "WHERE pe.company_id IN (SELECT\n",
    "           co.id\n",
    "       FROM company AS co LEFT JOIN funding_round AS fr ON co.id = fr.company_id\n",
    "      WHERE co.status = 'closed' AND fr.is_first_round = '1' AND fr.is_last_round = '1')\n",
    "'''"
   ]
  },
  {
   "cell_type": "markdown",
   "id": "c325afdd-8097-4a96-8db5-8163004cd5b7",
   "metadata": {},
   "source": [
    "**Задание 16**  - Посчитайте количество учебных заведений для каждого сотрудника из предыдущего задания. При подсчёте учитывайте, что некоторые сотрудники могли окончить одно и то же заведение дважды."
   ]
  },
  {
   "cell_type": "code",
   "execution_count": 22,
   "id": "e3b433d3-40e3-4394-bd88-f8f3e76a3f70",
   "metadata": {},
   "outputs": [
    {
     "data": {
      "text/plain": [
       "\"\\nSELECT\\n    DISTINCT(pe.id) AS id_people,\\n    COUNT(ed.instituition)\\nFROM people AS pe RIGHT JOIN education AS ed ON pe.id=ed.person_id\\nWHERE pe.company_id IN (\\n    SELECT\\n        com.id\\n    FROM company AS com LEFT JOIN funding_round AS fr ON com.id=fr.company_id\\n        WHERE com.status = 'closed' AND fr.is_first_round = '1' AND fr.is_last_round = '1')\\nGROUP BY id_people\\n\""
      ]
     },
     "execution_count": 22,
     "metadata": {},
     "output_type": "execute_result"
    }
   ],
   "source": [
    "'''\n",
    "SELECT\n",
    "    DISTINCT(pe.id) AS id_people,\n",
    "    COUNT(ed.instituition)\n",
    "FROM people AS pe RIGHT JOIN education AS ed ON pe.id=ed.person_id\n",
    "WHERE pe.company_id IN (\n",
    "    SELECT\n",
    "        com.id\n",
    "    FROM company AS com LEFT JOIN funding_round AS fr ON com.id=fr.company_id\n",
    "        WHERE com.status = 'closed' AND fr.is_first_round = '1' AND fr.is_last_round = '1')\n",
    "GROUP BY id_people\n",
    "'''"
   ]
  },
  {
   "cell_type": "markdown",
   "id": "3d154187-4dcb-4c82-95ca-9ce48ad8cee3",
   "metadata": {},
   "source": [
    "**Задание 17**  - Дополните предыдущий запрос и выведите среднее число учебных заведений (всех, не только уникальных), которые окончили сотрудники разных компаний. Нужно вывести только одну запись, группировка здесь не понадобится."
   ]
  },
  {
   "cell_type": "code",
   "execution_count": 24,
   "id": "3ecb3aa9-15ad-42e5-b4a6-69932d6bd980",
   "metadata": {},
   "outputs": [
    {
     "data": {
      "text/plain": [
       "\"\\nSELECT\\n    AVG(tabl.count_in)\\nFROM \\n    (SELECT\\n        DISTINCT(pe.id) AS id_people,\\n        COUNT(ed.instituition) as count_in\\n    FROM people AS pe RIGHT JOIN education AS ed ON pe.id=ed.person_id\\n    WHERE pe.company_id IN (\\n        SELECT\\n            com.id\\n        FROM company AS com LEFT JOIN funding_round AS fr ON com.id=fr.company_id\\n            WHERE com.status = 'closed' AND fr.is_first_round = '1' AND fr.is_last_round = '1')\\n    GROUP BY id_people) AS tabl\\n\""
      ]
     },
     "execution_count": 24,
     "metadata": {},
     "output_type": "execute_result"
    }
   ],
   "source": [
    "'''\n",
    "SELECT\n",
    "    AVG(tabl.count_in)\n",
    "FROM \n",
    "    (SELECT\n",
    "        DISTINCT(pe.id) AS id_people,\n",
    "        COUNT(ed.instituition) as count_in\n",
    "    FROM people AS pe RIGHT JOIN education AS ed ON pe.id=ed.person_id\n",
    "    WHERE pe.company_id IN (\n",
    "        SELECT\n",
    "            com.id\n",
    "        FROM company AS com LEFT JOIN funding_round AS fr ON com.id=fr.company_id\n",
    "            WHERE com.status = 'closed' AND fr.is_first_round = '1' AND fr.is_last_round = '1')\n",
    "    GROUP BY id_people) AS tabl\n",
    "'''"
   ]
  },
  {
   "cell_type": "markdown",
   "id": "10f96fd4-8dd5-41f5-af63-d4182f538421",
   "metadata": {},
   "source": [
    "**Задание 18**  - Напишите похожий запрос: выведите среднее число учебных заведений (всех, не только уникальных), которые окончили сотрудники Facebook*.  \n",
    "*(сервис, запрещённый на территории РФ)"
   ]
  },
  {
   "cell_type": "code",
   "execution_count": 25,
   "id": "d8ad4272-d5ab-49bd-b35f-3981ecdbcf41",
   "metadata": {},
   "outputs": [
    {
     "data": {
      "text/plain": [
       "\"\\nSELECT\\n    AVG(tabl.count_in)\\nFROM  \\n    (SELECT\\n        DISTINCT(pe.id) AS id_people,\\n        COUNT(ed.instituition) count_in\\n    FROM education AS ed LEFT JOIN people AS pe ON ed.person_id = pe.id\\n    WHERE pe.company_id IN \\n        (SELECT\\n             id\\n         FROM company\\n         WHERE name = 'Facebook'\\n        )\\n    GROUP BY id_people) AS tabl\\n\""
      ]
     },
     "execution_count": 25,
     "metadata": {},
     "output_type": "execute_result"
    }
   ],
   "source": [
    "'''\n",
    "SELECT\n",
    "    AVG(tabl.count_in)\n",
    "FROM  \n",
    "    (SELECT\n",
    "        DISTINCT(pe.id) AS id_people,\n",
    "        COUNT(ed.instituition) count_in\n",
    "    FROM education AS ed LEFT JOIN people AS pe ON ed.person_id = pe.id\n",
    "    WHERE pe.company_id IN \n",
    "        (SELECT\n",
    "             id\n",
    "         FROM company\n",
    "         WHERE name = 'Facebook'\n",
    "        )\n",
    "    GROUP BY id_people) AS tabl\n",
    "'''"
   ]
  },
  {
   "cell_type": "markdown",
   "id": "b89dd6e4-2009-4287-963a-e4e10a03f92e",
   "metadata": {},
   "source": [
    "**Задание 19**  - \n",
    "Составьте таблицу из полей:\n",
    "- name_of_fund — название фонда;\n",
    "- name_of_company — название компании;\n",
    "- amount — сумма инвестиций, которую привлекла компания в раунде.\n",
    "\n",
    "В таблицу войдут данные о компаниях, в истории которых было больше шести важных этапов, а раунды финансирования проходили с 2012 по 2013 год включительно."
   ]
  },
  {
   "cell_type": "code",
   "execution_count": 26,
   "id": "5a04775b-067e-4b55-85fb-10f834e4c420",
   "metadata": {},
   "outputs": [
    {
     "data": {
      "text/plain": [
       "\"\\nSELECT\\n    f.name AS name_of_fund,\\n    com.name AS name_of_company,\\n    fr.raised_amount AS amount\\nFROM investment AS inv\\n    LEFT JOIN fund AS f ON inv.fund_id = f.id\\n    LEFT JOIN company AS com ON com.id = inv.company_id\\n    LEFT JOIN funding_round AS fr ON inv.funding_round_id = fr.id\\nWHERE EXTRACT(YEAR FROM CAST(funded_at AS DATE)) IN ('2012', '2013')\\n    AND com.milestones > 6\\n\""
      ]
     },
     "execution_count": 26,
     "metadata": {},
     "output_type": "execute_result"
    }
   ],
   "source": [
    "'''\n",
    "SELECT\n",
    "    f.name AS name_of_fund,\n",
    "    com.name AS name_of_company,\n",
    "    fr.raised_amount AS amount\n",
    "FROM investment AS inv\n",
    "    LEFT JOIN fund AS f ON inv.fund_id = f.id\n",
    "    LEFT JOIN company AS com ON com.id = inv.company_id\n",
    "    LEFT JOIN funding_round AS fr ON inv.funding_round_id = fr.id\n",
    "WHERE EXTRACT(YEAR FROM CAST(funded_at AS DATE)) IN ('2012', '2013')\n",
    "    AND com.milestones > 6\n",
    "'''"
   ]
  },
  {
   "cell_type": "markdown",
   "id": "3a4216cb-63a1-4c92-94e7-3486e7eb2b03",
   "metadata": {},
   "source": [
    "**Задание 20**  - Выгрузите таблицу, в которой будут такие поля:\n",
    "- название компании-покупателя;\n",
    "- сумма сделки;\n",
    "- название компании, которую купили;\n",
    "- сумма инвестиций, вложенных в купленную компанию;\n",
    "- доля, которая отображает, во сколько раз сумма покупки превысила сумму вложенных в компанию инвестиций, округлённая до ближайшего целого числа.\n",
    "\n",
    "Не учитывайте те сделки, в которых сумма покупки равна нулю. Если сумма инвестиций в компанию равна нулю, исключите такую компанию из таблицы. \n",
    "Отсортируйте таблицу по сумме сделки от большей к меньшей, а затем по названию купленной компании в лексикографическом порядке. Ограничьте таблицу первыми десятью записями."
   ]
  },
  {
   "cell_type": "code",
   "execution_count": 27,
   "id": "4e3d578d-8f61-44d9-8aa0-639419b865e4",
   "metadata": {},
   "outputs": [
    {
     "data": {
      "text/plain": [
       "'\\nSELECT\\n    com.name,\\n    ac.price_amount,\\n    com_two.name,\\n    com_two.funding_total,\\n    round(ac.price_amount/com_two.funding_total)\\nFROM acquisition AS ac \\n     JOIN company AS com ON ac.acquiring_company_id = com.id\\n     JOIN company AS com_two ON ac.acquired_company_id = com_two.id\\nWHERE ac.price_amount != 0 and com_two.funding_total != 0\\nORDER BY ac.price_amount DESC, com_two.name\\nLIMIT 10\\n'"
      ]
     },
     "execution_count": 27,
     "metadata": {},
     "output_type": "execute_result"
    }
   ],
   "source": [
    "'''\n",
    "SELECT\n",
    "    com.name,\n",
    "    ac.price_amount,\n",
    "    com_two.name,\n",
    "    com_two.funding_total,\n",
    "    round(ac.price_amount/com_two.funding_total)\n",
    "FROM acquisition AS ac \n",
    "     JOIN company AS com ON ac.acquiring_company_id = com.id\n",
    "     JOIN company AS com_two ON ac.acquired_company_id = com_two.id\n",
    "WHERE ac.price_amount != 0 and com_two.funding_total != 0\n",
    "ORDER BY ac.price_amount DESC, com_two.name\n",
    "LIMIT 10\n",
    "'''"
   ]
  },
  {
   "cell_type": "markdown",
   "id": "b0a34346-ec11-44a3-9ae8-238b35252b5c",
   "metadata": {},
   "source": [
    "**Задание 21**  - Выгрузите таблицу, в которую войдут названия компаний из категории social, получившие финансирование с 2010 по 2013 год включительно. Проверьте, что сумма инвестиций не равна нулю. Выведите также номер месяца, в котором проходил раунд финансирования."
   ]
  },
  {
   "cell_type": "code",
   "execution_count": 30,
   "id": "69faaed0-f10b-40d0-a5e2-b24fbfe263d2",
   "metadata": {},
   "outputs": [
    {
     "data": {
      "text/plain": [
       "\"\\nSELECT\\n    com.name,\\n    EXTRACT(MONTH FROM CAST(fr.funded_at AS DATE))\\nFROM company AS com LEFT JOIN funding_round AS fr ON com.id = fr.company_id\\nWHERE com.category_code = 'social' AND EXTRACT(YEAR FROM CAST(fr.funded_at AS DATE)) IN ('2010', '2011', '2012', '2013') \\n    AND fr.raised_amount != 0\\n\""
      ]
     },
     "execution_count": 30,
     "metadata": {},
     "output_type": "execute_result"
    }
   ],
   "source": [
    "'''\n",
    "SELECT\n",
    "    com.name,\n",
    "    EXTRACT(MONTH FROM CAST(fr.funded_at AS DATE))\n",
    "FROM company AS com LEFT JOIN funding_round AS fr ON com.id = fr.company_id\n",
    "WHERE com.category_code = 'social' AND EXTRACT(YEAR FROM CAST(fr.funded_at AS DATE)) IN ('2010', '2011', '2012', '2013') \n",
    "    AND fr.raised_amount != 0\n",
    "'''"
   ]
  },
  {
   "cell_type": "markdown",
   "id": "8db99788-3461-4da6-99b9-ddaba1e5c8f3",
   "metadata": {},
   "source": [
    "**Задание 22**  - Отберите данные по месяцам с 2010 по 2013 год, когда проходили инвестиционные раунды. Сгруппируйте данные по номеру месяца и получите таблицу, в которой будут поля:\n",
    "- номер месяца, в котором проходили раунды;\n",
    "- количество уникальных названий фондов из США, которые инвестировали в этом месяце;\n",
    "- количество компаний, купленных за этот месяц;\n",
    "- общая сумма сделок по покупкам в этом месяце."
   ]
  },
  {
   "cell_type": "code",
   "execution_count": null,
   "id": "a5eefcbf-8b0e-4bf6-ac27-8385dbc02ea4",
   "metadata": {},
   "outputs": [],
   "source": [
    "'''\n",
    "WITH\n",
    "one AS (\n",
    "    SELECT\n",
    "        EXTRACT(MONTH FROM CAST(fr.funded_at AS DATE)) AS month_fund,\n",
    "        COUNT(DISTINCT(f.name)) AS count_founds\n",
    "    FROM funding_round AS fr\n",
    "        LEFT JOIN investment AS inv ON fr.id = inv.funding_round_id\n",
    "        LEFT JOIN fund AS f ON f.id = inv.fund_id\n",
    "    WHERE\n",
    "        EXTRACT(YEAR FROM CAST(fr.funded_at AS DATE)) BETWEEN 2010 AND 2013\n",
    "        AND f.country_code = 'USA'\n",
    "    GROUP BY month_fund),\n",
    "two AS (\n",
    "    SELECT\n",
    "        EXTRACT(MONTH FROM CAST(acquired_at AS DATE)) AS month_acq,\n",
    "        COUNT(acquired_company_id) AS count_acquired_company,\n",
    "        SUM(price_amount) AS sum_price\n",
    "    FROM acquisition\n",
    "    WHERE EXTRACT(YEAR FROM CAST(acquired_at AS DATE)) BETWEEN 2010 AND 2013\n",
    "    GROUP BY month_acq\n",
    ")\n",
    "\n",
    "SELECT\n",
    "    one.month_fund AS month,\n",
    "    one.count_founds,\n",
    "    two.count_acquired_company,\n",
    "    two.sum_price\n",
    "FROM one JOIN two ON one.month_fund = two.month_acq\n",
    "'''"
   ]
  },
  {
   "cell_type": "markdown",
   "id": "39406e96-a050-49a9-81c1-087662a57ac2",
   "metadata": {},
   "source": [
    "**Задание 23**  - Составьте сводную таблицу и выведите среднюю сумму инвестиций для стран, в которых есть стартапы, зарегистрированные в 2011, 2012 и 2013 годах. Данные за каждый год должны быть в отдельном поле. Отсортируйте таблицу по среднему значению инвестиций за 2011 год от большего к меньшему."
   ]
  },
  {
   "cell_type": "code",
   "execution_count": 31,
   "id": "1cfcc57d-0c0a-44f5-a132-b0ab0bd9a293",
   "metadata": {},
   "outputs": [
    {
     "data": {
      "text/plain": [
       "\"\\nWITH\\nyear_2011 AS (\\n    SELECT\\n        country_code AS country,\\n        AVG(funding_total) AS avg_2011\\n    FROM company\\n    WHERE EXTRACT(YEAR FROM CAST(founded_at AS DATE)) = '2011'\\n    GROUP BY country),\\nyear_2012 AS (\\n    SELECT\\n        country_code AS country,\\n        AVG(funding_total) AS avg_2012\\n    FROM company\\n    WHERE EXTRACT(YEAR FROM CAST(founded_at AS DATE)) = '2012'\\n    GROUP BY country),\\nyear_2013 AS (\\n    SELECT\\n        country_code AS country,\\n        AVG(funding_total) AS avg_2013\\n    FROM company\\n    WHERE EXTRACT(YEAR FROM CAST(founded_at AS DATE)) = '2013'\\n    GROUP BY country)\\n\\nSELECT\\n    year_2011.country,\\n    year_2011.avg_2011,\\n    year_2012.avg_2012,\\n    year_2013.avg_2013\\nFROM year_2011 \\n     JOIN year_2012 ON year_2011.country = year_2012.country\\n     JOIN year_2013 ON year_2011.country = year_2013.country\\nORDER BY year_2011.avg_2011 DESC\\n\""
      ]
     },
     "execution_count": 31,
     "metadata": {},
     "output_type": "execute_result"
    }
   ],
   "source": [
    "'''\n",
    "WITH\n",
    "year_2011 AS (\n",
    "    SELECT\n",
    "        country_code AS country,\n",
    "        AVG(funding_total) AS avg_2011\n",
    "    FROM company\n",
    "    WHERE EXTRACT(YEAR FROM CAST(founded_at AS DATE)) = '2011'\n",
    "    GROUP BY country),\n",
    "year_2012 AS (\n",
    "    SELECT\n",
    "        country_code AS country,\n",
    "        AVG(funding_total) AS avg_2012\n",
    "    FROM company\n",
    "    WHERE EXTRACT(YEAR FROM CAST(founded_at AS DATE)) = '2012'\n",
    "    GROUP BY country),\n",
    "year_2013 AS (\n",
    "    SELECT\n",
    "        country_code AS country,\n",
    "        AVG(funding_total) AS avg_2013\n",
    "    FROM company\n",
    "    WHERE EXTRACT(YEAR FROM CAST(founded_at AS DATE)) = '2013'\n",
    "    GROUP BY country)\n",
    "\n",
    "SELECT\n",
    "    year_2011.country,\n",
    "    year_2011.avg_2011,\n",
    "    year_2012.avg_2012,\n",
    "    year_2013.avg_2013\n",
    "FROM year_2011 \n",
    "     JOIN year_2012 ON year_2011.country = year_2012.country\n",
    "     JOIN year_2013 ON year_2011.country = year_2013.country\n",
    "ORDER BY year_2011.avg_2011 DESC\n",
    "'''"
   ]
  }
 ],
 "metadata": {
  "kernelspec": {
   "display_name": "Python 3 (ipykernel)",
   "language": "python",
   "name": "python3"
  },
  "language_info": {
   "codemirror_mode": {
    "name": "ipython",
    "version": 3
   },
   "file_extension": ".py",
   "mimetype": "text/x-python",
   "name": "python",
   "nbconvert_exporter": "python",
   "pygments_lexer": "ipython3",
   "version": "3.9.13"
  }
 },
 "nbformat": 4,
 "nbformat_minor": 5
}
