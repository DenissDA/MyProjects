{
 "cells": [
  {
   "cell_type": "markdown",
   "id": "9f6f274f-f40e-41ae-a35b-e5237779a09d",
   "metadata": {},
   "source": [
    "# Исследование надежности заемщиков"
   ]
  },
  {
   "cell_type": "markdown",
   "id": "a48af580-8f03-4dc3-852f-562058328344",
   "metadata": {},
   "source": [
    "**Цель исследования** - сбор данных для построения модели оценки способности потенциального заёмщика вовремя вернуть кредит банку."
   ]
  },
  {
   "cell_type": "markdown",
   "id": "cd485f7f-144b-4668-84b4-448d5019fb76",
   "metadata": {},
   "source": [
    "**Описание данных**  - датафрейм с информацией клиентов, где:\n",
    "- children — количество детей в семье\n",
    "- days_employed — общий трудовой стаж в днях\n",
    "- dob_years — возраст клиента в годах\n",
    "- education — уровень образования клиента\n",
    "- education_id — идентификатор уровня образования\n",
    "- family_status — семейное положение\n",
    "- family_status_id — идентификатор семейного положения\n",
    "- gender — пол клиента\n",
    "- income_type — тип занятости\n",
    "- debt — имел ли задолженность по возврату кредитов\n",
    "- total_income — ежемесячный доход\n",
    "- purpose — цель получения кредита"
   ]
  },
  {
   "cell_type": "markdown",
   "id": "2d1fe0f2-bf9e-4aa2-8438-ae86f98fd831",
   "metadata": {},
   "source": [
    "<div align='right'>Проектную работу выполнил студент Гагиев Денис. </div>"
   ]
  },
  {
   "cell_type": "markdown",
   "id": "96bda89d-303e-4ed6-b536-1d9db35327ab",
   "metadata": {},
   "source": [
    "---"
   ]
  },
  {
   "cell_type": "markdown",
   "id": "8a6f7e6f-054a-45e1-8e4b-c5dd3a8fce49",
   "metadata": {
    "tags": []
   },
   "source": [
    "## Обзор данных"
   ]
  },
  {
   "cell_type": "code",
   "execution_count": 1,
   "id": "baea836f-cb3c-4352-aab0-b9b6ef68eaf2",
   "metadata": {},
   "outputs": [
    {
     "name": "stdout",
     "output_type": "stream",
     "text": [
      "Intel MKL WARNING: Support of Intel(R) Streaming SIMD Extensions 4.2 (Intel(R) SSE4.2) enabled only processors has been deprecated. Intel oneAPI Math Kernel Library 2025.0 will require Intel(R) Advanced Vector Extensions (Intel(R) AVX) instructions.\n",
      "Intel MKL WARNING: Support of Intel(R) Streaming SIMD Extensions 4.2 (Intel(R) SSE4.2) enabled only processors has been deprecated. Intel oneAPI Math Kernel Library 2025.0 will require Intel(R) Advanced Vector Extensions (Intel(R) AVX) instructions.\n"
     ]
    }
   ],
   "source": [
    "# импорт библиотек\n",
    "import pandas as pd"
   ]
  },
  {
   "cell_type": "code",
   "execution_count": 2,
   "id": "36b1b1c2-a2fc-4aed-9fe6-5898c2494f89",
   "metadata": {
    "id": "7bcf75c9",
    "tags": []
   },
   "outputs": [],
   "source": [
    "# загрузка данных\n",
    "try:\n",
    "    data = pd.read_csv('ссылка скрыта')\n",
    "except:\n",
    "    data = pd.read_csv('ссылка скрыта')"
   ]
  },
  {
   "cell_type": "markdown",
   "id": "c6c15404-078a-4603-a4e5-1b0888558e0b",
   "metadata": {},
   "source": [
    "Ознакомимся с данными:"
   ]
  },
  {
   "cell_type": "code",
   "execution_count": 3,
   "id": "03d4105d-48e3-4b94-b5d4-1fd68098d14a",
   "metadata": {
    "tags": []
   },
   "outputs": [
    {
     "name": "stdout",
     "output_type": "stream",
     "text": [
      "<class 'pandas.core.frame.DataFrame'>\n",
      "RangeIndex: 21525 entries, 0 to 21524\n",
      "Data columns (total 12 columns):\n",
      " #   Column            Non-Null Count  Dtype  \n",
      "---  ------            --------------  -----  \n",
      " 0   children          21525 non-null  int64  \n",
      " 1   days_employed     19351 non-null  float64\n",
      " 2   dob_years         21525 non-null  int64  \n",
      " 3   education         21525 non-null  object \n",
      " 4   education_id      21525 non-null  int64  \n",
      " 5   family_status     21525 non-null  object \n",
      " 6   family_status_id  21525 non-null  int64  \n",
      " 7   gender            21525 non-null  object \n",
      " 8   income_type       21525 non-null  object \n",
      " 9   debt              21525 non-null  int64  \n",
      " 10  total_income      19351 non-null  float64\n",
      " 11  purpose           21525 non-null  object \n",
      "dtypes: float64(2), int64(5), object(5)\n",
      "memory usage: 2.0+ MB\n"
     ]
    }
   ],
   "source": [
    "data.head()\n",
    "data.info()"
   ]
  },
  {
   "cell_type": "markdown",
   "id": "4fff3440-3cf7-4068-96cd-fa093d0f2139",
   "metadata": {
    "editable": false,
    "id": "333ec665"
   },
   "source": [
    "## Предобработка данных"
   ]
  },
  {
   "cell_type": "markdown",
   "id": "de4c5eee-2ac3-48fc-9144-4fe3ae281e2f",
   "metadata": {
    "editable": false,
    "id": "02d92d53"
   },
   "source": [
    "### Удаление пропусков"
   ]
  },
  {
   "cell_type": "markdown",
   "id": "290a9dc8-f689-4057-a60d-01ad8c881e85",
   "metadata": {
    "tags": []
   },
   "source": [
    "Посмотрим на количество пропущенных значений для каждого столбца:"
   ]
  },
  {
   "cell_type": "code",
   "execution_count": 4,
   "id": "a2c2cc11-2063-439b-8490-e541afe698a1",
   "metadata": {
    "tags": []
   },
   "outputs": [
    {
     "data": {
      "text/plain": [
       "children               0\n",
       "days_employed       2174\n",
       "dob_years              0\n",
       "education              0\n",
       "education_id           0\n",
       "family_status          0\n",
       "family_status_id       0\n",
       "gender                 0\n",
       "income_type            0\n",
       "debt                   0\n",
       "total_income        2174\n",
       "purpose                0\n",
       "dtype: int64"
      ]
     },
     "metadata": {},
     "output_type": "display_data"
    }
   ],
   "source": [
    "# колличество пропуском\n",
    "display(data.isna().sum())"
   ]
  },
  {
   "cell_type": "markdown",
   "id": "bbd115f0-a8fb-4ee6-9df9-6b32dc91524c",
   "metadata": {},
   "source": [
    "В двух столбцах есть пропущенные значения. Один из них — `days_employed`. Пропуски в этом столбце вы обработаете на следующем этапе. Другой столбец с пропущенными значениями — `total_income` — хранит данные о доходах. На сумму дохода сильнее всего влияет тип занятости, поэтому заполнить пропуски в этом столбце нужно медианным значением по каждому типу из столбца `income_type`. Например, у человека с типом занятости `сотрудник` пропуск в столбце `total_income` должен быть заполнен медианным доходом среди всех записей с тем же типом.**"
   ]
  },
  {
   "cell_type": "code",
   "execution_count": 5,
   "id": "86b12fc3-2b39-4b82-a6e9-54348c908a34",
   "metadata": {
    "tags": []
   },
   "outputs": [],
   "source": [
    "for t in data['income_type'].unique():\n",
    "    data.loc[(data['income_type'] == t) & (data['total_income'].isna()), 'total_income'] = \\\n",
    "    data.loc[(data['income_type'] == t), 'total_income'].median()"
   ]
  },
  {
   "cell_type": "markdown",
   "id": "a9d3a99c-13d1-4931-bc03-80ee2f1181b2",
   "metadata": {},
   "source": [
    "### Обработка аномальных значений"
   ]
  },
  {
   "cell_type": "markdown",
   "id": "54365eb6-276c-4b0b-9294-12bcd5a2d684",
   "metadata": {},
   "source": [
    "В данных могут встречаться артефакты (аномалии) — значения, которые не отражают действительность и появились по какой-то ошибке. таким артефактом будет отрицательное количество дней трудового стажа в столбце `days_employed`. Для реальных данных это нормально. Обработаем значения в этом столбце: заменим все отрицательные значения положительными с помощью метода `abs()`"
   ]
  },
  {
   "cell_type": "code",
   "execution_count": 6,
   "id": "39a70cc2-6273-4f6a-ac37-70661e1d5bbc",
   "metadata": {
    "tags": []
   },
   "outputs": [],
   "source": [
    "data['days_employed'] = data['days_employed'].abs()"
   ]
  },
  {
   "cell_type": "markdown",
   "id": "e0b7cfba-d77f-4435-950c-b846a4066a7f",
   "metadata": {},
   "source": [
    "Для каждого типа занятости выведим медианное значение трудового стажа days_employed в днях."
   ]
  },
  {
   "cell_type": "code",
   "execution_count": 7,
   "id": "0f40b5d5-7676-4988-80c6-7fac8e4beb4e",
   "metadata": {
    "tags": []
   },
   "outputs": [
    {
     "data": {
      "text/plain": [
       "income_type\n",
       "безработный        366413.652744\n",
       "в декрете            3296.759962\n",
       "госслужащий          2689.368353\n",
       "компаньон            1547.382223\n",
       "пенсионер          365213.306266\n",
       "предприниматель       520.848083\n",
       "сотрудник            1574.202821\n",
       "студент               578.751554\n",
       "Name: days_employed, dtype: float64"
      ]
     },
     "execution_count": 7,
     "metadata": {},
     "output_type": "execute_result"
    }
   ],
   "source": [
    "data.groupby('income_type')['days_employed'].agg('median')"
   ]
  },
  {
   "cell_type": "markdown",
   "id": "fc20f82e-698b-49bb-8e9d-23c61783ba98",
   "metadata": {},
   "source": [
    "У двух типов (безработные и пенсионеры) получатся аномально большие значения. Исправить такие значения сложно, поэтому оставьте их как есть. Тем более этот столбец не понадобится вам для исследования."
   ]
  },
  {
   "cell_type": "markdown",
   "id": "1bb303fb-a32e-4c36-ab07-2fffb7f9a333",
   "metadata": {},
   "source": [
    "Выведим перечень уникальных значений столбца `children`:"
   ]
  },
  {
   "cell_type": "code",
   "execution_count": 8,
   "id": "ffe962aa-67fa-4fa0-b875-971a2b64f831",
   "metadata": {
    "tags": []
   },
   "outputs": [
    {
     "data": {
      "text/plain": [
       "array([ 1,  0,  3,  2, -1,  4, 20,  5])"
      ]
     },
     "execution_count": 8,
     "metadata": {},
     "output_type": "execute_result"
    }
   ],
   "source": [
    "data['children'].unique()"
   ]
  },
  {
   "cell_type": "markdown",
   "id": "a72edf8b-2946-4be5-842c-edb61e8a6c4c",
   "metadata": {},
   "source": [
    "В столбце `children` есть два аномальных значения. Удалите строки, в которых встречаются такие аномальные значения из датафрейма `data`"
   ]
  },
  {
   "cell_type": "code",
   "execution_count": 9,
   "id": "ce79cc8c-5366-4b7e-bbc5-5cf4615b0e45",
   "metadata": {
    "tags": []
   },
   "outputs": [],
   "source": [
    "data = data[(data['children'] != -1) & (data['children'] != 20)]"
   ]
  },
  {
   "cell_type": "markdown",
   "id": "06e62bd3-ed0d-49cc-a429-080ddf453aa2",
   "metadata": {},
   "source": [
    "Заполним пропуски в столбце `days_employed` медианными значениями по каждого типа занятости `income_type`:"
   ]
  },
  {
   "cell_type": "code",
   "execution_count": 10,
   "id": "88c3bf06-870a-4f8d-9a97-eb3b875f8f44",
   "metadata": {
    "tags": []
   },
   "outputs": [],
   "source": [
    "for t in data['income_type'].unique():\n",
    "    data.loc[(data['income_type'] == t) & (data['days_employed'].isna()), 'days_employed'] = \\\n",
    "    data.loc[(data['income_type'] == t), 'days_employed'].median()"
   ]
  },
  {
   "cell_type": "markdown",
   "id": "7d5dca69-52b6-4d34-bf26-e3a6f2020e61",
   "metadata": {
    "tags": []
   },
   "source": [
    "Убедимся, что все пропуски заполнены:"
   ]
  },
  {
   "cell_type": "code",
   "execution_count": 11,
   "id": "dc8695cb-68d5-42fb-b8fc-e5c9abaae9d2",
   "metadata": {
    "tags": []
   },
   "outputs": [
    {
     "data": {
      "text/plain": [
       "children            0\n",
       "days_employed       0\n",
       "dob_years           0\n",
       "education           0\n",
       "education_id        0\n",
       "family_status       0\n",
       "family_status_id    0\n",
       "gender              0\n",
       "income_type         0\n",
       "debt                0\n",
       "total_income        0\n",
       "purpose             0\n",
       "dtype: int64"
      ]
     },
     "execution_count": 11,
     "metadata": {},
     "output_type": "execute_result"
    }
   ],
   "source": [
    "data.isna().sum()"
   ]
  },
  {
   "cell_type": "markdown",
   "id": "6dd9eeaa-c039-4852-8a58-d78ab3d7d241",
   "metadata": {},
   "source": [
    "### Изменение типов данных"
   ]
  },
  {
   "cell_type": "markdown",
   "id": "3740693b-a3bd-47a6-90cc-e75ff53db806",
   "metadata": {
    "tags": []
   },
   "source": [
    "Заменим вещественный тип данных в столбце `total_income` на целочисленный с помощью метода `astype()`"
   ]
  },
  {
   "cell_type": "code",
   "execution_count": 12,
   "id": "de1723bd-5e86-4af3-a4e9-34c8b60634a2",
   "metadata": {
    "tags": []
   },
   "outputs": [],
   "source": [
    "data['total_income'] = data['total_income'].astype(int)"
   ]
  },
  {
   "cell_type": "markdown",
   "id": "a918e2f7-3aac-4a7d-bf22-00984c3cfa33",
   "metadata": {
    "editable": false,
    "id": "80c420ba"
   },
   "source": [
    "### Обработка дубликатов"
   ]
  },
  {
   "cell_type": "markdown",
   "id": "55f7bfc3-f8c3-46c2-8ca8-f6e45424e772",
   "metadata": {},
   "source": [
    "Обработаем неявные дубликаты в столбце `education`. В этом столбце есть одни и те же значения, но записанные по-разному: с использованием заглавных и строчных букв."
   ]
  },
  {
   "cell_type": "code",
   "execution_count": 13,
   "id": "87721ef3-257b-4430-a65b-81c84e2f962f",
   "metadata": {
    "tags": []
   },
   "outputs": [],
   "source": [
    "data['education'] = data['education'].str.lower()"
   ]
  },
  {
   "cell_type": "markdown",
   "id": "65362f84-0bf8-4690-839c-ee7c7ae97dd5",
   "metadata": {},
   "source": [
    "Посмотрим колличество дубликатов:"
   ]
  },
  {
   "cell_type": "code",
   "execution_count": 14,
   "id": "44278f42-619c-45e7-ae2e-2a0744905da0",
   "metadata": {
    "id": "3ee445e4",
    "outputId": "9684deba-1934-42d1-99e1-cda61740f822",
    "tags": []
   },
   "outputs": [
    {
     "data": {
      "text/plain": [
       "71"
      ]
     },
     "execution_count": 14,
     "metadata": {},
     "output_type": "execute_result"
    }
   ],
   "source": [
    "data.duplicated().sum()"
   ]
  },
  {
   "cell_type": "markdown",
   "id": "7e4c9312-ae76-4a4f-b11c-3d93ab835d82",
   "metadata": {
    "tags": []
   },
   "source": [
    "Удалим дубликаты:"
   ]
  },
  {
   "cell_type": "code",
   "execution_count": 15,
   "id": "e9e82c4b-66d6-4c31-9ef5-aee1bcb23979",
   "metadata": {
    "id": "8575fe05"
   },
   "outputs": [],
   "source": [
    "data = data.drop_duplicates()"
   ]
  },
  {
   "cell_type": "markdown",
   "id": "09cea63f-1269-4419-b5a2-ad49d507ca73",
   "metadata": {
    "editable": false,
    "id": "9904cf55",
    "tags": []
   },
   "source": [
    "### Категоризация данных"
   ]
  },
  {
   "cell_type": "markdown",
   "id": "e70a04a8-4e4d-4b84-8b8b-de3694e4acc7",
   "metadata": {},
   "source": [
    "На основании диапазонов, указанных ниже, создадим в датафрейме `data` столбец `total_income_category` с категориями:**\n",
    "\n",
    "- 0–30000 — `'E'`;\n",
    "- 30001–50000 — `'D'`;\n",
    "- 50001–200000 — `'C'`;\n",
    "- 200001–1000000 — `'B'`;\n",
    "- 1000001 и выше — `'A'`."
   ]
  },
  {
   "cell_type": "code",
   "execution_count": 16,
   "id": "f02148a6-8791-4e4f-991f-2ec7b5e36c72",
   "metadata": {
    "tags": []
   },
   "outputs": [],
   "source": [
    "def categorize_income(income):\n",
    "    try:\n",
    "        if 0 <= income <= 30000:\n",
    "            return 'E'\n",
    "        elif 30001 <= income <= 50000:\n",
    "            return 'D'\n",
    "        elif 50001 <= income <= 200000:\n",
    "            return 'C'\n",
    "        elif 200001 <= income <= 1000000:\n",
    "            return 'B'\n",
    "        elif income >= 1000001:\n",
    "            return 'A'\n",
    "    except:\n",
    "        pass"
   ]
  },
  {
   "cell_type": "code",
   "execution_count": 17,
   "id": "0ce82ed2-7f0f-4fba-9063-6b98d06374b9",
   "metadata": {
    "id": "d5f3586d",
    "tags": []
   },
   "outputs": [],
   "source": [
    "data['total_income_category'] = data['total_income'].apply(categorize_income)"
   ]
  },
  {
   "cell_type": "markdown",
   "id": "7d150500-8492-40a8-b31b-8750b40be0f3",
   "metadata": {},
   "source": [
    "Выведим на экран перечень уникальных целей взятия кредита из столбца `purpose`."
   ]
  },
  {
   "cell_type": "code",
   "execution_count": 18,
   "id": "7de877fb-5620-4d60-a7e3-5429053bdb4e",
   "metadata": {
    "id": "f67ce9b3",
    "outputId": "673c12d9-7d7e-4ae0-9812-c622c89dd244",
    "tags": []
   },
   "outputs": [
    {
     "data": {
      "text/plain": [
       "array(['покупка жилья', 'приобретение автомобиля',\n",
       "       'дополнительное образование', 'сыграть свадьбу',\n",
       "       'операции с жильем', 'образование', 'на проведение свадьбы',\n",
       "       'покупка жилья для семьи', 'покупка недвижимости',\n",
       "       'покупка коммерческой недвижимости', 'покупка жилой недвижимости',\n",
       "       'строительство собственной недвижимости', 'недвижимость',\n",
       "       'строительство недвижимости', 'на покупку подержанного автомобиля',\n",
       "       'на покупку своего автомобиля',\n",
       "       'операции с коммерческой недвижимостью',\n",
       "       'строительство жилой недвижимости', 'жилье',\n",
       "       'операции со своей недвижимостью', 'автомобили',\n",
       "       'заняться образованием', 'сделка с подержанным автомобилем',\n",
       "       'получение образования', 'автомобиль', 'свадьба',\n",
       "       'получение дополнительного образования', 'покупка своего жилья',\n",
       "       'операции с недвижимостью', 'получение высшего образования',\n",
       "       'свой автомобиль', 'сделка с автомобилем',\n",
       "       'профильное образование', 'высшее образование',\n",
       "       'покупка жилья для сдачи', 'на покупку автомобиля', 'ремонт жилью',\n",
       "       'заняться высшим образованием'], dtype=object)"
      ]
     },
     "execution_count": 18,
     "metadata": {},
     "output_type": "execute_result"
    }
   ],
   "source": [
    "data['purpose'].unique()"
   ]
  },
  {
   "cell_type": "markdown",
   "id": "07697f89-cab6-4658-944b-dd1de656a2ea",
   "metadata": {},
   "source": [
    "Создадим функцию, которая на основании данных из столбца `purpose` сформирует новый столбец `purpose_category`, в который войдут следующие категории:**\n",
    "\n",
    "- `'операции с автомобилем'`,\n",
    "- `'операции с недвижимостью'`,\n",
    "- `'проведение свадьбы'`,\n",
    "- `'получение образования'`.\n",
    "\n",
    "Например, если в столбце `purpose` находится подстрока `'на покупку автомобиля'`, то в столбце `purpose_category` должна появиться строка `'операции с автомобилем'`."
   ]
  },
  {
   "cell_type": "code",
   "execution_count": 19,
   "id": "33d1bb01-4c12-422f-b97d-41e2b8f5fd30",
   "metadata": {
    "tags": []
   },
   "outputs": [],
   "source": [
    "def categorize_purpose(row):\n",
    "    try:\n",
    "        if 'автом' in row:\n",
    "            return 'операции с автомобилем'\n",
    "        elif 'жил' in row or 'недвиж' in row:\n",
    "            return 'операции с недвижимостью'\n",
    "        elif 'свад' in row:\n",
    "            return 'проведение свадьбы'\n",
    "        elif 'образов' in row:\n",
    "            return 'получение образования'\n",
    "    except:\n",
    "        return 'нет категории'"
   ]
  },
  {
   "cell_type": "code",
   "execution_count": 20,
   "id": "05ee61c8-5f70-435c-bda1-97b40c0dee7b",
   "metadata": {
    "id": "bf36e69b",
    "tags": []
   },
   "outputs": [],
   "source": [
    "data['purpose_category'] = data['purpose'].apply(categorize_purpose)"
   ]
  },
  {
   "cell_type": "markdown",
   "id": "7704eae3-6596-4277-8c9a-924d5dad9fd0",
   "metadata": {
    "tags": []
   },
   "source": [
    "## Исследовательский анализ данных"
   ]
  },
  {
   "cell_type": "markdown",
   "id": "4a89b908-fe06-4f46-894a-c7393d2902b4",
   "metadata": {
    "tags": []
   },
   "source": [
    "Ответим на следующий ряд вопросов:"
   ]
  },
  {
   "cell_type": "markdown",
   "id": "e748950f-ba5b-4b47-9fed-30f8025f06fe",
   "metadata": {
    "tags": []
   },
   "source": [
    "#### 1. Есть ли зависимость между количеством детей и возвратом кредита в срок?"
   ]
  },
  {
   "cell_type": "code",
   "execution_count": 21,
   "id": "e62b11b0-3e37-4640-87cb-a18571b144d0",
   "metadata": {
    "tags": []
   },
   "outputs": [
    {
     "data": {
      "text/html": [
       "<div>\n",
       "<style scoped>\n",
       "    .dataframe tbody tr th:only-of-type {\n",
       "        vertical-align: middle;\n",
       "    }\n",
       "\n",
       "    .dataframe tbody tr th {\n",
       "        vertical-align: top;\n",
       "    }\n",
       "\n",
       "    .dataframe thead th {\n",
       "        text-align: right;\n",
       "    }\n",
       "</style>\n",
       "<table border=\"1\" class=\"dataframe\">\n",
       "  <thead>\n",
       "    <tr style=\"text-align: right;\">\n",
       "      <th>debt</th>\n",
       "      <th>клиентов без задолженности</th>\n",
       "      <th>клиентов с задолженностью</th>\n",
       "      <th>доля должников (%)</th>\n",
       "    </tr>\n",
       "    <tr>\n",
       "      <th>children</th>\n",
       "      <th></th>\n",
       "      <th></th>\n",
       "      <th></th>\n",
       "    </tr>\n",
       "  </thead>\n",
       "  <tbody>\n",
       "    <tr>\n",
       "      <th>0</th>\n",
       "      <td>13028.0</td>\n",
       "      <td>1063.0</td>\n",
       "      <td>7.543822</td>\n",
       "    </tr>\n",
       "    <tr>\n",
       "      <th>1</th>\n",
       "      <td>4364.0</td>\n",
       "      <td>444.0</td>\n",
       "      <td>9.234609</td>\n",
       "    </tr>\n",
       "    <tr>\n",
       "      <th>2</th>\n",
       "      <td>1858.0</td>\n",
       "      <td>194.0</td>\n",
       "      <td>9.454191</td>\n",
       "    </tr>\n",
       "    <tr>\n",
       "      <th>3</th>\n",
       "      <td>303.0</td>\n",
       "      <td>27.0</td>\n",
       "      <td>8.181818</td>\n",
       "    </tr>\n",
       "    <tr>\n",
       "      <th>4</th>\n",
       "      <td>37.0</td>\n",
       "      <td>4.0</td>\n",
       "      <td>9.756098</td>\n",
       "    </tr>\n",
       "    <tr>\n",
       "      <th>5</th>\n",
       "      <td>9.0</td>\n",
       "      <td>NaN</td>\n",
       "      <td>NaN</td>\n",
       "    </tr>\n",
       "  </tbody>\n",
       "</table>\n",
       "</div>"
      ],
      "text/plain": [
       "debt      клиентов без задолженности  клиентов с задолженностью  \\\n",
       "children                                                          \n",
       "0                            13028.0                     1063.0   \n",
       "1                             4364.0                      444.0   \n",
       "2                             1858.0                      194.0   \n",
       "3                              303.0                       27.0   \n",
       "4                               37.0                        4.0   \n",
       "5                                9.0                        NaN   \n",
       "\n",
       "debt      доля должников (%)  \n",
       "children                      \n",
       "0                   7.543822  \n",
       "1                   9.234609  \n",
       "2                   9.454191  \n",
       "3                   8.181818  \n",
       "4                   9.756098  \n",
       "5                        NaN  "
      ]
     },
     "metadata": {},
     "output_type": "display_data"
    }
   ],
   "source": [
    "data_child_debt = data.pivot_table(index='children', columns='debt', values='education', aggfunc='count') #строим сводную таблицу\n",
    "data_child_debt['доля должников (%)'] = (data_child_debt[1] / (data_child_debt[0] + data_child_debt[1]) * 100)\n",
    "data_child_debt = data_child_debt.rename(columns={1:'клиентов с задолженностью',0:'клиентов без задолженности'})\n",
    "display(data_child_debt)"
   ]
  },
  {
   "cell_type": "markdown",
   "id": "313688fd-fc80-46b8-8ff4-5e5c9d30ba99",
   "metadata": {
    "id": "3a6b99ec"
   },
   "source": [
    "**Вывод:** кредитополучатели без детей являются более ответственными, чем клиенты, у которых есть дети. Видимо, наличие ребенка накладывает на клиента дополнительные финансовое бремя (обязательства) и клиенты либо менее ответственно относятся к своим кредитным обязательствам, либо не имеют возможности в срок оплачивать обязательства. \n",
    "\n",
    "Ну и что ещё видно в наших данных (агрегация «по count» нам в этом помогает), то, что по некоторым группам заемщиков у нас недостаточно данных. Говорят, что выборка не сбалансирована, классы в выборке имеют разные размеры."
   ]
  },
  {
   "cell_type": "markdown",
   "id": "b622e73a-c3eb-49c9-a003-a3e55c84baaa",
   "metadata": {},
   "source": [
    "#### 2. Есть ли зависимость между семейным положением и возвратом кредита в срок?"
   ]
  },
  {
   "cell_type": "code",
   "execution_count": 22,
   "id": "9118247d-be8b-472a-9c71-319a9f3c4b6d",
   "metadata": {
    "tags": []
   },
   "outputs": [
    {
     "data": {
      "text/html": [
       "<div>\n",
       "<style scoped>\n",
       "    .dataframe tbody tr th:only-of-type {\n",
       "        vertical-align: middle;\n",
       "    }\n",
       "\n",
       "    .dataframe tbody tr th {\n",
       "        vertical-align: top;\n",
       "    }\n",
       "\n",
       "    .dataframe thead th {\n",
       "        text-align: right;\n",
       "    }\n",
       "</style>\n",
       "<table border=\"1\" class=\"dataframe\">\n",
       "  <thead>\n",
       "    <tr style=\"text-align: right;\">\n",
       "      <th>debt</th>\n",
       "      <th>клиентов без задолженности</th>\n",
       "      <th>клиентов с задолженностью</th>\n",
       "      <th>доля должников (%)</th>\n",
       "    </tr>\n",
       "    <tr>\n",
       "      <th>family_status</th>\n",
       "      <th></th>\n",
       "      <th></th>\n",
       "      <th></th>\n",
       "    </tr>\n",
       "  </thead>\n",
       "  <tbody>\n",
       "    <tr>\n",
       "      <th>женат / замужем</th>\n",
       "      <td>11334</td>\n",
       "      <td>927</td>\n",
       "      <td>7.560558</td>\n",
       "    </tr>\n",
       "    <tr>\n",
       "      <th>гражданский брак</th>\n",
       "      <td>3749</td>\n",
       "      <td>385</td>\n",
       "      <td>9.313014</td>\n",
       "    </tr>\n",
       "    <tr>\n",
       "      <th>Не женат / не замужем</th>\n",
       "      <td>2523</td>\n",
       "      <td>273</td>\n",
       "      <td>9.763948</td>\n",
       "    </tr>\n",
       "    <tr>\n",
       "      <th>в разводе</th>\n",
       "      <td>1105</td>\n",
       "      <td>84</td>\n",
       "      <td>7.064760</td>\n",
       "    </tr>\n",
       "    <tr>\n",
       "      <th>вдовец / вдова</th>\n",
       "      <td>888</td>\n",
       "      <td>63</td>\n",
       "      <td>6.624606</td>\n",
       "    </tr>\n",
       "  </tbody>\n",
       "</table>\n",
       "</div>"
      ],
      "text/plain": [
       "debt                   клиентов без задолженности  клиентов с задолженностью  \\\n",
       "family_status                                                                  \n",
       "женат / замужем                             11334                        927   \n",
       "гражданский брак                             3749                        385   \n",
       "Не женат / не замужем                        2523                        273   \n",
       "в разводе                                    1105                         84   \n",
       "вдовец / вдова                                888                         63   \n",
       "\n",
       "debt                   доля должников (%)  \n",
       "family_status                              \n",
       "женат / замужем                  7.560558  \n",
       "гражданский брак                 9.313014  \n",
       "Не женат / не замужем            9.763948  \n",
       "в разводе                        7.064760  \n",
       "вдовец / вдова                   6.624606  "
      ]
     },
     "metadata": {},
     "output_type": "display_data"
    }
   ],
   "source": [
    "data_family_debt = data.pivot_table(index='family_status', columns='debt', values='education', aggfunc='count')\n",
    "data_family_debt['доля должников (%)'] = (data_family_debt[1] / (data_family_debt[0] + data_family_debt[1]) * 100)\n",
    "data_family_debt = data_family_debt.sort_values(0, ascending=False).rename(columns={1:'клиентов с задолженностью',0:'клиентов без задолженности'})\n",
    "display(data_family_debt)"
   ]
  },
  {
   "cell_type": "markdown",
   "id": "31c150ed-86ed-48cb-a1c0-12871b5b0ba3",
   "metadata": {},
   "source": [
    "**Вывод:** кредитному отделу следует с осторожностью относиться к клиентам, которые не состоят или не состояли в браке. Согласно данным такие клиенты менее ответственные. Получается, что узаконенные отношения ведут к более ответственному отношению к своим обязательствам. Ну вроде как совпадает со здравым смыслом - семейные люди более скрупулёзно берегут свой семейное спокойствие и несут за него ответственность."
   ]
  },
  {
   "cell_type": "markdown",
   "id": "3697e638-11c8-41c2-b72a-642ba28481a3",
   "metadata": {},
   "source": [
    "#### 3. Есть ли зависимость между уровнем дохода и возвратом кредита в срок?"
   ]
  },
  {
   "cell_type": "code",
   "execution_count": 23,
   "id": "46855585-747a-4504-89dc-99d0add68884",
   "metadata": {
    "id": "cd7e3720"
   },
   "outputs": [
    {
     "data": {
      "text/html": [
       "<div>\n",
       "<style scoped>\n",
       "    .dataframe tbody tr th:only-of-type {\n",
       "        vertical-align: middle;\n",
       "    }\n",
       "\n",
       "    .dataframe tbody tr th {\n",
       "        vertical-align: top;\n",
       "    }\n",
       "\n",
       "    .dataframe thead th {\n",
       "        text-align: right;\n",
       "    }\n",
       "</style>\n",
       "<table border=\"1\" class=\"dataframe\">\n",
       "  <thead>\n",
       "    <tr style=\"text-align: right;\">\n",
       "      <th>debt</th>\n",
       "      <th>клиентов без задолженности</th>\n",
       "      <th>клиентов с задолженностью</th>\n",
       "      <th>доля должников (%)</th>\n",
       "    </tr>\n",
       "    <tr>\n",
       "      <th>total_income_category</th>\n",
       "      <th></th>\n",
       "      <th></th>\n",
       "      <th></th>\n",
       "    </tr>\n",
       "  </thead>\n",
       "  <tbody>\n",
       "    <tr>\n",
       "      <th>C (50001–200000 рублей)</th>\n",
       "      <td>14568</td>\n",
       "      <td>1353</td>\n",
       "      <td>8.498210</td>\n",
       "    </tr>\n",
       "    <tr>\n",
       "      <th>B (200001–1000000)</th>\n",
       "      <td>4660</td>\n",
       "      <td>354</td>\n",
       "      <td>7.060231</td>\n",
       "    </tr>\n",
       "    <tr>\n",
       "      <th>D (30001–50000)</th>\n",
       "      <td>328</td>\n",
       "      <td>21</td>\n",
       "      <td>6.017192</td>\n",
       "    </tr>\n",
       "    <tr>\n",
       "      <th>A (1000001 и выше)</th>\n",
       "      <td>23</td>\n",
       "      <td>2</td>\n",
       "      <td>8.000000</td>\n",
       "    </tr>\n",
       "    <tr>\n",
       "      <th>E (0–30000)</th>\n",
       "      <td>20</td>\n",
       "      <td>2</td>\n",
       "      <td>9.090909</td>\n",
       "    </tr>\n",
       "  </tbody>\n",
       "</table>\n",
       "</div>"
      ],
      "text/plain": [
       "debt                     клиентов без задолженности  \\\n",
       "total_income_category                                 \n",
       "C (50001–200000 рублей)                       14568   \n",
       "B (200001–1000000)                             4660   \n",
       "D (30001–50000)                                 328   \n",
       "A (1000001 и выше)                               23   \n",
       "E (0–30000)                                      20   \n",
       "\n",
       "debt                     клиентов с задолженностью  доля должников (%)  \n",
       "total_income_category                                                   \n",
       "C (50001–200000 рублей)                       1353            8.498210  \n",
       "B (200001–1000000)                             354            7.060231  \n",
       "D (30001–50000)                                 21            6.017192  \n",
       "A (1000001 и выше)                               2            8.000000  \n",
       "E (0–30000)                                      2            9.090909  "
      ]
     },
     "execution_count": 23,
     "metadata": {},
     "output_type": "execute_result"
    }
   ],
   "source": [
    "#переименование значений для лучшего понимания сводной таблицы:\n",
    "data['total_income_category'] = data['total_income_category'].replace('C', \"C (50001–200000 рублей)\") \\\n",
    ".replace('B', \"B (200001–1000000)\").replace('D', \"D (30001–50000)\") \\\n",
    ".replace('A', \"A (1000001 и выше)\").replace('E', \"E (0–30000)\")\n",
    "\n",
    "#создание сводной таблицы:\n",
    "data_income_debt = data.pivot_table(index='total_income_category', \\\n",
    "    columns='debt', values='education', aggfunc='count')\n",
    "\n",
    "#расчет доли должников:\n",
    "data_income_debt['доля должников (%)'] = (data_income_debt[1] / \\\n",
    "    (data_income_debt[0] + data_income_debt[1]) * 100)\n",
    "\n",
    "#сортировка и переименование столбцов:\n",
    "data_income_debt = data_income_debt.sort_values(0, ascending=False) \\\n",
    "    .rename(columns={1:'клиентов с задолженностью',0:'клиентов без задолженности'})\n",
    "\n",
    "data_income_debt"
   ]
  },
  {
   "cell_type": "markdown",
   "id": "71cf5bc0-c8cb-48e5-b847-3f6747013ebc",
   "metadata": {},
   "source": [
    "**Вывод:** исходя из здравого смысла логично предположить, что чаще всего должниками становятся люди с небольшим доходом, которым финансовые проблемы не позволяют вовремя осуществлять платежи. Но глядя на наши результаты лично мой вывод таков: выборка по заемщикам, как с наименьшим доходом, так и с наибольшим крайне недостаточна для формирования однозначных выводов. Можно думать, что E-категория самая низкооплачиваемая не может корректно распоряжаться деньгами и «влезает» в кредиты, но тогда неясно почему у А-категории также достаточно высокий процент задолженности. В общем вывод по группам А и Е неочевиден, мало данных.\n",
    "\n",
    "Если же взять для анализа только группы В, С и D, то по полученным данным не наблюдаем зависимости \"те, кто получает больше ЗП, лучше возвращает кредит». В целом это логично, так как материальный достаток - не единственная переменная, которая влияет на качество кредитной истории."
   ]
  },
  {
   "cell_type": "markdown",
   "id": "aff723d6-7a12-49f1-822e-b2f99a642d14",
   "metadata": {},
   "source": [
    "#### 4. Как разные цели кредита влияют на его возврат в срок?"
   ]
  },
  {
   "cell_type": "code",
   "execution_count": 24,
   "id": "f9b1d050-9498-4b63-a02c-a9b5e6f88219",
   "metadata": {
    "tags": []
   },
   "outputs": [
    {
     "data": {
      "text/html": [
       "<div>\n",
       "<style scoped>\n",
       "    .dataframe tbody tr th:only-of-type {\n",
       "        vertical-align: middle;\n",
       "    }\n",
       "\n",
       "    .dataframe tbody tr th {\n",
       "        vertical-align: top;\n",
       "    }\n",
       "\n",
       "    .dataframe thead th {\n",
       "        text-align: right;\n",
       "    }\n",
       "</style>\n",
       "<table border=\"1\" class=\"dataframe\">\n",
       "  <thead>\n",
       "    <tr style=\"text-align: right;\">\n",
       "      <th>debt</th>\n",
       "      <th>клиентов без задолженности</th>\n",
       "      <th>клиентов с задолженностью</th>\n",
       "      <th>доля должников (%)</th>\n",
       "    </tr>\n",
       "    <tr>\n",
       "      <th>purpose_category</th>\n",
       "      <th></th>\n",
       "      <th></th>\n",
       "      <th></th>\n",
       "    </tr>\n",
       "  </thead>\n",
       "  <tbody>\n",
       "    <tr>\n",
       "      <th>операции с недвижимостью</th>\n",
       "      <td>9971</td>\n",
       "      <td>780</td>\n",
       "      <td>7.255139</td>\n",
       "    </tr>\n",
       "    <tr>\n",
       "      <th>операции с автомобилем</th>\n",
       "      <td>3879</td>\n",
       "      <td>400</td>\n",
       "      <td>9.347978</td>\n",
       "    </tr>\n",
       "    <tr>\n",
       "      <th>получение образования</th>\n",
       "      <td>3619</td>\n",
       "      <td>369</td>\n",
       "      <td>9.252758</td>\n",
       "    </tr>\n",
       "    <tr>\n",
       "      <th>проведение свадьбы</th>\n",
       "      <td>2130</td>\n",
       "      <td>183</td>\n",
       "      <td>7.911803</td>\n",
       "    </tr>\n",
       "  </tbody>\n",
       "</table>\n",
       "</div>"
      ],
      "text/plain": [
       "debt                      клиентов без задолженности  \\\n",
       "purpose_category                                       \n",
       "операции с недвижимостью                        9971   \n",
       "операции с автомобилем                          3879   \n",
       "получение образования                           3619   \n",
       "проведение свадьбы                              2130   \n",
       "\n",
       "debt                      клиентов с задолженностью  доля должников (%)  \n",
       "purpose_category                                                         \n",
       "операции с недвижимостью                        780            7.255139  \n",
       "операции с автомобилем                          400            9.347978  \n",
       "получение образования                           369            9.252758  \n",
       "проведение свадьбы                              183            7.911803  "
      ]
     },
     "execution_count": 24,
     "metadata": {},
     "output_type": "execute_result"
    }
   ],
   "source": [
    "data_purpose_debt = data.pivot_table(index='purpose_category', columns='debt', values='education', aggfunc='count')\n",
    "data_purpose_debt['доля должников (%)'] = (data_purpose_debt[1] / (data_purpose_debt[0] + data_purpose_debt[1]) * 100)\n",
    "data_purpose_debt = data_purpose_debt.sort_values(0, ascending=False).rename(columns={1:'клиентов с задолженностью',0:'клиентов без задолженности'})\n",
    "data_purpose_debt"
   ]
  },
  {
   "cell_type": "markdown",
   "id": "bd01167b-d8f7-46fa-ab66-c94dffbda7e8",
   "metadata": {},
   "source": [
    "**Вывод:** есть зависимость. Среди клиентов целью кридита которых является \"операции с недвижимостью\" или \"проведение свадьбы\" меньше всего должников. "
   ]
  },
  {
   "cell_type": "markdown",
   "id": "1f193b89-3248-4f92-8458-19605d6cb5b7",
   "metadata": {},
   "source": [
    "#### 5. Приведите возможные причины появления пропусков в исходных данных."
   ]
  },
  {
   "cell_type": "markdown",
   "id": "de83472c-a74b-40c5-9c80-e0081169776f",
   "metadata": {},
   "source": [
    "**Ответ:** с высокой долей вероятности можно утверждать, что произошла техническая ошибка при формировании таблицы с исходными данными (либо некий сбой во время выгрузки данных на анализ, либо при объединении данных в единый файл, который также должен был передаваться на анализ, либо эти данные не собирались)."
   ]
  },
  {
   "cell_type": "markdown",
   "id": "1658389c-3fd3-42d3-8106-4517bd9772d8",
   "metadata": {},
   "source": [
    "#### 6. Объясните, почему заполнить пропуски медианным значением — лучшее решение для количественных переменных."
   ]
  },
  {
   "cell_type": "markdown",
   "id": "8e3f85ae-82b5-44d8-86b9-7ad7d659102b",
   "metadata": {},
   "source": [
    "**Ответ:** медианное значение является более подходящее решением для заполнения пропусков, если имеются индивидуальные данные с сильным отклонением (4, 3, 5, 84, 4, 8), где метод mean может исказить понимание данных. "
   ]
  },
  {
   "cell_type": "markdown",
   "id": "c7754b3e-4eeb-4ec1-a63e-fc8260bcd5a2",
   "metadata": {},
   "source": [
    "---"
   ]
  },
  {
   "cell_type": "markdown",
   "id": "a80d50b4-b7c5-4836-9a44-edfa3da59829",
   "metadata": {},
   "source": [
    "<div style=\"background: #B0E0E6; padding: 5px; border: 1px solid SteelBlue; border-radius: 5px;\">\n",
    "    \n",
    "    \n",
    "# **Заключение**\n",
    "---\n",
    "**Цель исследования** - сбор данных для построения модели оценки способности потенциального заёмщика вовремя вернуть кредит банку.\n",
    "\n",
    "**В рамках исследования выдвинуты следующие гипотезы:**\n",
    "- колличество детей у заемщика влияет на факт погашения кредита в срок;\n",
    "- семейное положение заемщика влияет влияет на факт погашения кредита в срок.\n",
    "\n",
    "**Данные**: для проверки выдвинутых гипотез задействована статистика о платёжеспособности клиентов банка. Для точности анализа произведена предобработках полученного массива данных:\n",
    "- выявлены и заполнены пропуски в данных;\n",
    "- обработаны аномальные значения;\n",
    "- обработаны явные и неявные дубликаты значений;\n",
    "- обработы неккоректные типы данных.\n",
    "---\n",
    "**Гипотеза 1 - колличество детей у заемщика влияет на факт погашения кредита в срок.**\n",
    "\n",
    "Для проверки гипотезы [оценена взаимосвязь между наличием детей и фактом просрочки задолженности.](#children_test)\n",
    "\n",
    "Выявлена четкая взаимосвязь между наличием детей и их полным отсутствием. Клиенты без детей являются более платежеспособными. В тоже время незначительной и нелогической является взаимосвязь касательно колличества детей, согласно проведенному анализу колличество детей на оказывает флияние на факт погашение кредита вовремя.\n",
    "\n",
    "Таким образом - **гипотеза подтверждена частично** и влияние на факт оплаты кредита в срок оказывает только полное отсутствие детей или их наличие. \n",
    "\n",
    "**Гипотеза 2 - семейное положение заемщика влияет влияет на факт погашения кредита в срок.**\n",
    "\n",
    "Здесь также [оценена взаимосвязь между семейным положением и фактом просрочки задолженности.](#family_test)\n",
    "\n",
    "Самая большая группа - это заемщики находящиеся в официальном браке, в тоже время они являются наиболее ответственными платильщиками. Чем не могут выделиться заемщики не состоящие в браке. Скорее всего это связанно с тем, что люди семейного порядка являются более обязательными и ответственными. \n",
    "\n",
    "Таким образом - **гипотеза подтвержена** и семейной положение действительно сказывается на факт оплаты кредита в срок. Кредит с большой вероятностью должен быть одобрен, если потенциальный заемщик состоит в официальном браке. \n",
    "    \n",
    "**Заключение**: выдвинутые гипотезы подтверждают своё существование, при одобрении кредита важно обращать внимание на наличие детей (не колличество), а также на семейной положении, желательно наличие статуса официального брака. Также рекомендуется дополнить выборку  групп, где четверо и более детей и групп с доходом более 1 млн. рублей и доходом до 30 тыс. рублей, поскольку на данный момент выборка неудовлетворительна по своему колличеству.  \n",
    "\n",
    "</div>\n",
    "\n"
   ]
  }
 ],
 "metadata": {
  "kernelspec": {
   "display_name": "Python 3 (ipykernel)",
   "language": "python",
   "name": "python3"
  },
  "language_info": {
   "codemirror_mode": {
    "name": "ipython",
    "version": 3
   },
   "file_extension": ".py",
   "mimetype": "text/x-python",
   "name": "python",
   "nbconvert_exporter": "python",
   "pygments_lexer": "ipython3",
   "version": "3.9.16"
  }
 },
 "nbformat": 4,
 "nbformat_minor": 5
}
