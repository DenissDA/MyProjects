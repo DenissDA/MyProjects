{
 "cells": [
  {
   "cell_type": "markdown",
   "id": "7fb94153",
   "metadata": {},
   "source": [
    "# Анализ A/A/B-теста\n",
    "\n",
    "<b>Предисловие</b> - в мобильное приложение по продаже продуктов питания хотят внедрить новый шрифт, был проведен A/A/B-тест, чтобы понять повлияет ли изменение шрифтов на пользователей.\n",
    "\n",
    "<b>Цель исследования</b> - проанализировать результы A/A/B-теста с целью принятия решения по рациональности внедрения новых шрифтов в мобильное приложение. \n",
    "\n",
    "<b>Задачи в рамках исследования:</b>\n",
    "- исследовать исходные данные;\n",
    "- выполнить предобработку данных;\n",
    "- изучить данные, наполненность данных по времени;\n",
    "- изучить воронку событий;\n",
    "- проанализировать результаты A/A/B-тестирования;\n",
    "- сформировать итоговые выводы исследования.\n",
    "\n",
    "<b>Исходные данные для исследования:</b>\n",
    "- A/A/B-тест по событиям.\n",
    "\n",
    "<div align='right'>Проектную работу выполнил студент Гагиев Денис. </div>"
   ]
  },
  {
   "cell_type": "markdown",
   "id": "49edccd9",
   "metadata": {},
   "source": [
    "---"
   ]
  },
  {
   "cell_type": "markdown",
   "id": "271904d3",
   "metadata": {},
   "source": [
    "## Общее изучение информации"
   ]
  },
  {
   "cell_type": "code",
   "execution_count": 1,
   "id": "abd2622c",
   "metadata": {},
   "outputs": [],
   "source": [
    "# импорт библиотек\n",
    "import pandas as pd\n",
    "import numpy as np\n",
    "import math as mth\n",
    "from scipy import stats as st\n",
    "import matplotlib.pyplot as plt\n",
    "import plotly.express as px\n",
    "from plotly import graph_objects as go"
   ]
  },
  {
   "cell_type": "code",
   "execution_count": 2,
   "id": "e10fdae8",
   "metadata": {},
   "outputs": [],
   "source": [
    "# создание датафрейма\n",
    "try:\n",
    "    data = pd.read_csv('/Users/dendon/Desktop/Обучение/YP/Конспекты/Сборный проект 2/logs_exp.csv', sep = '\\t')\n",
    "except:\n",
    "    data = pd.read_csv('https://code.s3.yandex.net/datasets/logs_exp.csv', sep = '\\t')"
   ]
  },
  {
   "cell_type": "code",
   "execution_count": 3,
   "id": "098a1a28",
   "metadata": {},
   "outputs": [
    {
     "data": {
      "text/html": [
       "<div>\n",
       "<style scoped>\n",
       "    .dataframe tbody tr th:only-of-type {\n",
       "        vertical-align: middle;\n",
       "    }\n",
       "\n",
       "    .dataframe tbody tr th {\n",
       "        vertical-align: top;\n",
       "    }\n",
       "\n",
       "    .dataframe thead th {\n",
       "        text-align: right;\n",
       "    }\n",
       "</style>\n",
       "<table border=\"1\" class=\"dataframe\">\n",
       "  <thead>\n",
       "    <tr style=\"text-align: right;\">\n",
       "      <th></th>\n",
       "      <th>EventName</th>\n",
       "      <th>DeviceIDHash</th>\n",
       "      <th>EventTimestamp</th>\n",
       "      <th>ExpId</th>\n",
       "    </tr>\n",
       "  </thead>\n",
       "  <tbody>\n",
       "    <tr>\n",
       "      <th>0</th>\n",
       "      <td>MainScreenAppear</td>\n",
       "      <td>4575588528974610257</td>\n",
       "      <td>1564029816</td>\n",
       "      <td>246</td>\n",
       "    </tr>\n",
       "    <tr>\n",
       "      <th>1</th>\n",
       "      <td>MainScreenAppear</td>\n",
       "      <td>7416695313311560658</td>\n",
       "      <td>1564053102</td>\n",
       "      <td>246</td>\n",
       "    </tr>\n",
       "    <tr>\n",
       "      <th>2</th>\n",
       "      <td>PaymentScreenSuccessful</td>\n",
       "      <td>3518123091307005509</td>\n",
       "      <td>1564054127</td>\n",
       "      <td>248</td>\n",
       "    </tr>\n",
       "    <tr>\n",
       "      <th>3</th>\n",
       "      <td>CartScreenAppear</td>\n",
       "      <td>3518123091307005509</td>\n",
       "      <td>1564054127</td>\n",
       "      <td>248</td>\n",
       "    </tr>\n",
       "    <tr>\n",
       "      <th>4</th>\n",
       "      <td>PaymentScreenSuccessful</td>\n",
       "      <td>6217807653094995999</td>\n",
       "      <td>1564055322</td>\n",
       "      <td>248</td>\n",
       "    </tr>\n",
       "  </tbody>\n",
       "</table>\n",
       "</div>"
      ],
      "text/plain": [
       "                 EventName         DeviceIDHash  EventTimestamp  ExpId\n",
       "0         MainScreenAppear  4575588528974610257      1564029816    246\n",
       "1         MainScreenAppear  7416695313311560658      1564053102    246\n",
       "2  PaymentScreenSuccessful  3518123091307005509      1564054127    248\n",
       "3         CartScreenAppear  3518123091307005509      1564054127    248\n",
       "4  PaymentScreenSuccessful  6217807653094995999      1564055322    248"
      ]
     },
     "metadata": {},
     "output_type": "display_data"
    },
    {
     "name": "stdout",
     "output_type": "stream",
     "text": [
      "<class 'pandas.core.frame.DataFrame'>\n",
      "RangeIndex: 244126 entries, 0 to 244125\n",
      "Data columns (total 4 columns):\n",
      " #   Column          Non-Null Count   Dtype \n",
      "---  ------          --------------   ----- \n",
      " 0   EventName       244126 non-null  object\n",
      " 1   DeviceIDHash    244126 non-null  int64 \n",
      " 2   EventTimestamp  244126 non-null  int64 \n",
      " 3   ExpId           244126 non-null  int64 \n",
      "dtypes: int64(3), object(1)\n",
      "memory usage: 7.5+ MB\n"
     ]
    },
    {
     "data": {
      "text/plain": [
       "248    85747\n",
       "246    80304\n",
       "247    78075\n",
       "Name: ExpId, dtype: int64"
      ]
     },
     "execution_count": 3,
     "metadata": {},
     "output_type": "execute_result"
    }
   ],
   "source": [
    "# вывод информации\n",
    "display(data.head())\n",
    "data.info()\n",
    "data['EventName'].value_counts()\n",
    "data['ExpId'].value_counts()"
   ]
  },
  {
   "cell_type": "markdown",
   "id": "ae7c64b4",
   "metadata": {},
   "source": [
    "**Комментарий:** каждая запись в датафрейме - это действие пользователя. Всего 5 типов событий и 3 экспериментальные группы (ExpId), где 246 и 247 группы контрольные со старыми шрифтами, а 248 - экспериментальная с новыми шрифтами.  Первичное наблюдение говорит об отсутствии пропусков в данных.   \n",
    "Структура датафрейма следующая:\n",
    "- EventName — название события;\n",
    "- DeviceIDHash — уникальный идентификатор пользователя;\n",
    "- EventTimestamp — время события;\n",
    "- ExpId — номер группы"
   ]
  },
  {
   "cell_type": "markdown",
   "id": "0dc7bfa5",
   "metadata": {},
   "source": [
    "## Предобработка данных"
   ]
  },
  {
   "cell_type": "code",
   "execution_count": 4,
   "id": "8981f984",
   "metadata": {},
   "outputs": [],
   "source": [
    "# изменяем названия столбцов\n",
    "data = data.rename(columns={\n",
    "    'EventName': 'event_name',\n",
    "    'DeviceIDHash': 'device_id',\n",
    "    'EventTimestamp': 'event_time',\n",
    "    'ExpId': 'group_id'})\n",
    "\n",
    "# изменяем формат данных в event_time\n",
    "data['event_time'] = pd.to_datetime(data['event_time'], unit='s')\n",
    "\n",
    "# создаем date с датой\n",
    "data['date'] = data['event_time'].astype('datetime64[D]')\n",
    "\n",
    "# поиск дубликатов данных\n",
    "data.duplicated().sum()\n",
    "data = data.drop_duplicates()"
   ]
  },
  {
   "cell_type": "markdown",
   "id": "716a0dc3",
   "metadata": {},
   "source": [
    "**Комментарий:** на этапе предобработки данных были:\n",
    "- изменены названия столбцов;\n",
    "- изменен формат данных в столбце с датой;\n",
    "- создан дополнительный столбец только с датой;\n",
    "- найдены и удалены дубликаты в данных.\n",
    "\n",
    "Всего было найдено 416 дубликатов, что в соотношении всего датафрейма не критично в случаи их удаления."
   ]
  },
  {
   "cell_type": "markdown",
   "id": "2129a553",
   "metadata": {},
   "source": [
    "## Изучение и проверка данных"
   ]
  },
  {
   "cell_type": "code",
   "execution_count": 5,
   "id": "4c60fbdb",
   "metadata": {},
   "outputs": [
    {
     "data": {
      "text/plain": [
       "'Всего событий в логе: 243713, всего пользователей: 7551, в среднем событий на пользователя: 32'"
      ]
     },
     "metadata": {},
     "output_type": "display_data"
    }
   ],
   "source": [
    "display('Всего событий в логе: {}, всего пользователей: {}, в среднем событий на пользователя: {}'.format(\n",
    "    # подсчет событий в логе\n",
    "    data.shape[0],\n",
    "    # подсчет пользователей\n",
    "    data['device_id'].nunique(),\n",
    "    # подсчет среднего колличества событий на пользователя\n",
    "    round(data.shape[0] / data['device_id'].nunique())\n",
    "))"
   ]
  },
  {
   "cell_type": "code",
   "execution_count": 6,
   "id": "61bab4b5",
   "metadata": {
    "scrolled": true
   },
   "outputs": [
    {
     "data": {
      "text/plain": [
       "'Данные в датафрейме представлены с 2019-07-25 по 2019-08-07'"
      ]
     },
     "metadata": {},
     "output_type": "display_data"
    },
    {
     "data": {
      "image/png": "[encoded data removed]",
      "text/plain": [
       "<Figure size 1080x360 with 1 Axes>"
      ]
     },
     "metadata": {
      "needs_background": "light"
     },
     "output_type": "display_data"
    }
   ],
   "source": [
    "# вывод периода данных\n",
    "display('Данные в датафрейме представлены с {} по {}'.format(\n",
    "    data['event_time'].dt.date.min(),\n",
    "    data['event_time'].dt.date.max()\n",
    "))\n",
    "\n",
    "# построение гистограммы распределения данных по дате\n",
    "plt.figure(figsize = (15, 5))\n",
    "plt.title('Распределение данных по дате')\n",
    "plt.hist(data['event_time'], bins = 50)\n",
    "plt.xticks(rotation=15)\n",
    "plt.ylabel('Колличество событий')\n",
    "plt.show()"
   ]
  },
  {
   "cell_type": "markdown",
   "id": "22b60d22",
   "metadata": {},
   "source": [
    "**Комментарий:** располагаем данными с 2019-07-25 по 2019-08-07. Четко видно, что данные \"перекошены\", это может быть связанно с технической особенностью - логи некоторых пользовать доходят со временем.  \n",
    "Данные с 2019-07-25 по 2019-07-31 явно не полные, дальнейшей временной отрезок теста достаточно полный, именно он и будет взят для анализа."
   ]
  },
  {
   "cell_type": "markdown",
   "id": "7c89ab3a",
   "metadata": {},
   "source": [
    "Сделаем срез данные и оставим данные только после 2019-08-01. А также посмотрим как изменилось колличество наблюдений и пользователей, проверим остались ли пользователи во всех 3-х рассматриваемых группах эксперимента."
   ]
  },
  {
   "cell_type": "code",
   "execution_count": 7,
   "id": "4ebaa4e1",
   "metadata": {
    "scrolled": true
   },
   "outputs": [
    {
     "data": {
      "text/plain": [
       "'Колличество событий до среза данных: 243713, колличество пользователей до среза данных: 7551'"
      ]
     },
     "metadata": {},
     "output_type": "display_data"
    },
    {
     "data": {
      "text/plain": [
       "'Колличество событий после среза данных: 240887, колличество пользователей после среза данных: 7534'"
      ]
     },
     "metadata": {},
     "output_type": "display_data"
    },
    {
     "data": {
      "text/plain": [
       "'Потеряно событий после очистки: 2826, потеряно пользователей после очистики: 17'"
      ]
     },
     "metadata": {},
     "output_type": "display_data"
    }
   ],
   "source": [
    "# выведем данные до очистки\n",
    "display(\n",
    "    'Колличество событий до среза данных: {}, колличество пользователей до среза данных: {}'.format(\n",
    "    data.shape[0], data['device_id'].nunique()))\n",
    "\n",
    "# сделаем срез данных\n",
    "data = data[data['event_time'] > '2019-08-01']\n",
    "\n",
    "# выведем данные после очистки\n",
    "display(\n",
    "    'Колличество событий после среза данных: {}, колличество пользователей после среза данных: {}'.format(\n",
    "    data.shape[0], data['device_id'].nunique()))\n",
    "\n",
    "display(\n",
    "    'Потеряно событий после очистки: {}, потеряно пользователей после очистики: {}'.format(\n",
    "    243713 - 240887, 7551-7534))"
   ]
  },
  {
   "cell_type": "code",
   "execution_count": 8,
   "id": "cf23cade",
   "metadata": {},
   "outputs": [
    {
     "data": {
      "text/html": [
       "<div>\n",
       "<style scoped>\n",
       "    .dataframe tbody tr th:only-of-type {\n",
       "        vertical-align: middle;\n",
       "    }\n",
       "\n",
       "    .dataframe tbody tr th {\n",
       "        vertical-align: top;\n",
       "    }\n",
       "\n",
       "    .dataframe thead th {\n",
       "        text-align: right;\n",
       "    }\n",
       "</style>\n",
       "<table border=\"1\" class=\"dataframe\">\n",
       "  <thead>\n",
       "    <tr style=\"text-align: right;\">\n",
       "      <th></th>\n",
       "      <th>group_id</th>\n",
       "      <th>device_unique</th>\n",
       "    </tr>\n",
       "  </thead>\n",
       "  <tbody>\n",
       "    <tr>\n",
       "      <th>0</th>\n",
       "      <td>246</td>\n",
       "      <td>2484</td>\n",
       "    </tr>\n",
       "    <tr>\n",
       "      <th>1</th>\n",
       "      <td>247</td>\n",
       "      <td>2513</td>\n",
       "    </tr>\n",
       "    <tr>\n",
       "      <th>2</th>\n",
       "      <td>248</td>\n",
       "      <td>2537</td>\n",
       "    </tr>\n",
       "  </tbody>\n",
       "</table>\n",
       "</div>"
      ],
      "text/plain": [
       "   group_id  device_unique\n",
       "0       246           2484\n",
       "1       247           2513\n",
       "2       248           2537"
      ]
     },
     "execution_count": 8,
     "metadata": {},
     "output_type": "execute_result"
    }
   ],
   "source": [
    "# проверим не отсеяли ли мы значительно какую-либо из групп\n",
    "data.groupby(by='group_id').agg(device_unique = ('device_id', 'nunique')).reset_index()"
   ]
  },
  {
   "cell_type": "markdown",
   "id": "e4767284",
   "metadata": {},
   "source": [
    "**Комментарий:** во всех 3-х группах примерно одинаковое колличество уникальных пользователей, эксперимент не будет искажен после очистики данных по дате."
   ]
  },
  {
   "cell_type": "markdown",
   "id": "d9d2abb8",
   "metadata": {},
   "source": [
    "## Анализ воронки событий"
   ]
  },
  {
   "cell_type": "markdown",
   "id": "30556edf",
   "metadata": {},
   "source": [
    "Посмотрим на частоту отдельных событий:"
   ]
  },
  {
   "cell_type": "code",
   "execution_count": 9,
   "id": "4efe4fd9",
   "metadata": {},
   "outputs": [
    {
     "data": {
      "text/html": [
       "<div>\n",
       "<style scoped>\n",
       "    .dataframe tbody tr th:only-of-type {\n",
       "        vertical-align: middle;\n",
       "    }\n",
       "\n",
       "    .dataframe tbody tr th {\n",
       "        vertical-align: top;\n",
       "    }\n",
       "\n",
       "    .dataframe thead th {\n",
       "        text-align: right;\n",
       "    }\n",
       "</style>\n",
       "<table border=\"1\" class=\"dataframe\">\n",
       "  <thead>\n",
       "    <tr style=\"text-align: right;\">\n",
       "      <th></th>\n",
       "      <th>event_name</th>\n",
       "      <th>device_cnt</th>\n",
       "    </tr>\n",
       "  </thead>\n",
       "  <tbody>\n",
       "    <tr>\n",
       "      <th>0</th>\n",
       "      <td>MainScreenAppear</td>\n",
       "      <td>117328</td>\n",
       "    </tr>\n",
       "    <tr>\n",
       "      <th>1</th>\n",
       "      <td>OffersScreenAppear</td>\n",
       "      <td>46333</td>\n",
       "    </tr>\n",
       "    <tr>\n",
       "      <th>2</th>\n",
       "      <td>CartScreenAppear</td>\n",
       "      <td>42303</td>\n",
       "    </tr>\n",
       "    <tr>\n",
       "      <th>3</th>\n",
       "      <td>PaymentScreenSuccessful</td>\n",
       "      <td>33918</td>\n",
       "    </tr>\n",
       "    <tr>\n",
       "      <th>4</th>\n",
       "      <td>Tutorial</td>\n",
       "      <td>1005</td>\n",
       "    </tr>\n",
       "  </tbody>\n",
       "</table>\n",
       "</div>"
      ],
      "text/plain": [
       "                event_name  device_cnt\n",
       "0         MainScreenAppear      117328\n",
       "1       OffersScreenAppear       46333\n",
       "2         CartScreenAppear       42303\n",
       "3  PaymentScreenSuccessful       33918\n",
       "4                 Tutorial        1005"
      ]
     },
     "execution_count": 9,
     "metadata": {},
     "output_type": "execute_result"
    }
   ],
   "source": [
    "# группируем данные по событию\n",
    "(data.groupby(by='event_name').agg(device_cnt = ('device_id', 'count'))\n",
    "     .sort_values('device_cnt', ascending=False)\n",
    "     .reset_index())"
   ]
  },
  {
   "cell_type": "markdown",
   "id": "cda256d8",
   "metadata": {},
   "source": [
    "**Комментарий:** рассмотрим каждое событие по отдельности:  \n",
    "- MainScreenAppear - 117328 раз пользователи увидели главный экран;\n",
    "- OffersScreenAppear - 46333 раз пользователи увидели страницу с предложениями;\n",
    "- CartScreenAppear - 42303 раз пользователи увидели карточку товара;\n",
    "- PaymentScreenSuccessful - 33918 раз пользователи увидели экран успешной оплаты;\n",
    "- Tutorial - 1005 раз пользователи увидели обучение."
   ]
  },
  {
   "cell_type": "markdown",
   "id": "5d2420fc",
   "metadata": {},
   "source": [
    "Теперь посмотрим как много уникальных пользователей совершили отдельное событие:"
   ]
  },
  {
   "cell_type": "code",
   "execution_count": 10,
   "id": "2bb51fe5",
   "metadata": {},
   "outputs": [
    {
     "data": {
      "text/html": [
       "<div>\n",
       "<style scoped>\n",
       "    .dataframe tbody tr th:only-of-type {\n",
       "        vertical-align: middle;\n",
       "    }\n",
       "\n",
       "    .dataframe tbody tr th {\n",
       "        vertical-align: top;\n",
       "    }\n",
       "\n",
       "    .dataframe thead th {\n",
       "        text-align: right;\n",
       "    }\n",
       "</style>\n",
       "<table border=\"1\" class=\"dataframe\">\n",
       "  <thead>\n",
       "    <tr style=\"text-align: right;\">\n",
       "      <th></th>\n",
       "      <th>event_name</th>\n",
       "      <th>device_unique</th>\n",
       "      <th>%</th>\n",
       "    </tr>\n",
       "  </thead>\n",
       "  <tbody>\n",
       "    <tr>\n",
       "      <th>0</th>\n",
       "      <td>MainScreenAppear</td>\n",
       "      <td>7419</td>\n",
       "      <td>98.5</td>\n",
       "    </tr>\n",
       "    <tr>\n",
       "      <th>1</th>\n",
       "      <td>OffersScreenAppear</td>\n",
       "      <td>4593</td>\n",
       "      <td>61.0</td>\n",
       "    </tr>\n",
       "    <tr>\n",
       "      <th>2</th>\n",
       "      <td>CartScreenAppear</td>\n",
       "      <td>3734</td>\n",
       "      <td>49.6</td>\n",
       "    </tr>\n",
       "    <tr>\n",
       "      <th>3</th>\n",
       "      <td>PaymentScreenSuccessful</td>\n",
       "      <td>3539</td>\n",
       "      <td>47.0</td>\n",
       "    </tr>\n",
       "    <tr>\n",
       "      <th>4</th>\n",
       "      <td>Tutorial</td>\n",
       "      <td>840</td>\n",
       "      <td>11.1</td>\n",
       "    </tr>\n",
       "  </tbody>\n",
       "</table>\n",
       "</div>"
      ],
      "text/plain": [
       "                event_name  device_unique     %\n",
       "0         MainScreenAppear           7419  98.5\n",
       "1       OffersScreenAppear           4593  61.0\n",
       "2         CartScreenAppear           3734  49.6\n",
       "3  PaymentScreenSuccessful           3539  47.0\n",
       "4                 Tutorial            840  11.1"
      ]
     },
     "execution_count": 10,
     "metadata": {},
     "output_type": "execute_result"
    }
   ],
   "source": [
    "# группируем по событию и уникальным пользователям\n",
    "event_by_device = (data.groupby(by='event_name').agg(device_unique = ('device_id', 'nunique'))\n",
    "     .sort_values(by='device_unique', ascending=False)\n",
    "     .reset_index())\n",
    "event_by_device['%'] = event_by_device['device_unique'] / data['device_id'].nunique() * 100\n",
    "event_by_device['%'] = round(event_by_device['%'], 1)\n",
    "event_by_device"
   ]
  },
  {
   "cell_type": "markdown",
   "id": "d56909dd",
   "metadata": {},
   "source": [
    "**Комментарий:** и вновь рассмотрим события:  \n",
    "- MainScreenAppear - 98% от общего числа уникальных пользователей увидели главную страницу;\n",
    "- OffersScreenAppear - 61% от общего числа уникальных пользователей увидели страницу с предложениями;\n",
    "- CartScreenAppear - 49% от общего числа уникальных пользователей увидели карточку товара;\n",
    "- PaymentScreenSuccessful - 47% от общего числа уникальных пользователей увидели экран успешной оплаты;\n",
    "- Tutorial - 11% от общего числа уникальных пользователей увидели обучение.  \n",
    "\n",
    "То, что главную страницу увидели не все 100% пользователей скорее всего говорит о том, что люди возможно просто переходили сразу в карточку товара через ссылку, ведущую в приложение. Только 11% пользователей увидели обучение, скорее всего в большинстве случаев оно просто не нужно."
   ]
  },
  {
   "cell_type": "markdown",
   "id": "1f9a0d68",
   "metadata": {},
   "source": [
    "События явно складываются в следующем порядке, сначала пользователь попадает на **главную страницу**, далее **изучает предложения**, посещает **карточку конкретного товара** и **видит экран успешной оплаты**. Событие Tutorial не укладывается в цепочке, ведущей к покупке и служит скорее событием к которому обращаются по необходимости.  \n",
    "Очистим датафрейм от события Tutorial:"
   ]
  },
  {
   "cell_type": "code",
   "execution_count": 11,
   "id": "666912d1",
   "metadata": {},
   "outputs": [],
   "source": [
    "# уберем не нужное событие\n",
    "data = data[data['event_name'] != 'Tutorial']"
   ]
  },
  {
   "cell_type": "code",
   "execution_count": 12,
   "id": "68b74cd9",
   "metadata": {},
   "outputs": [
    {
     "name": "stdout",
     "output_type": "stream",
     "text": [
      "Посетили главную страницу - 100% (7419 пользователей)\n",
      "Далее перешли на страницу с предложениями - 61.9% (4593 пользователей)\n",
      "Далее перешли на страницу в карточку товара - 81.3% (3734 пользователей)\n",
      "Успешно оплатили - 94.8% (3539 пользователей)\n",
      "От первого события до оплаты доходит - 47.7%\n"
     ]
    }
   ],
   "source": [
    "print('Посетили главную страницу -', '{:.0%}'\n",
    "      .format(event_by_device['device_unique'][0] / event_by_device['device_unique'][0]),\n",
    "      '({} пользователей)'.format(event_by_device['device_unique'][0]))\n",
    "\n",
    "print('Далее перешли на страницу с предложениями -',\n",
    "      '{:.1%}'.format(event_by_device['device_unique'][1] / event_by_device['device_unique'][0]),\n",
    "      '({} пользователей)'.format( event_by_device['device_unique'][1]))\n",
    "\n",
    "print('Далее перешли на страницу в карточку товара -',\n",
    "      '{:.1%}'.format(event_by_device['device_unique'][2] / event_by_device['device_unique'][1]),\n",
    "      '({} пользователей)'.format( event_by_device['device_unique'][2]))\n",
    "\n",
    "print('Успешно оплатили -',\n",
    "      '{:.1%}'.format(event_by_device['device_unique'][3] / event_by_device['device_unique'][2]),\n",
    "      '({} пользователей)'.format( event_by_device['device_unique'][3]))\n",
    "\n",
    "print('От первого события до оплаты доходит -',\n",
    "      '{:.1%}'.format(event_by_device['device_unique'][3] / event_by_device['device_unique'][0]))"
   ]
  },
  {
   "cell_type": "markdown",
   "id": "7e60b4d3",
   "metadata": {},
   "source": [
    "**Комментарий:** больше всего пользователей отпадает после посещения главной страницы на событии просмотра страницы с предложениями, а то есть только 62% пользователей переходят в коталог. От первого события до оплаты доходит - 47.7%"
   ]
  },
  {
   "cell_type": "markdown",
   "id": "b7b72bfe",
   "metadata": {},
   "source": [
    "## Анализ результатов эксперимента"
   ]
  },
  {
   "cell_type": "markdown",
   "id": "42054e85",
   "metadata": {},
   "source": [
    "Посмотрим сколько пользователей в каждой экспериментальной группе:"
   ]
  },
  {
   "cell_type": "code",
   "execution_count": 13,
   "id": "a57ed11a",
   "metadata": {},
   "outputs": [
    {
     "data": {
      "text/html": [
       "<div>\n",
       "<style scoped>\n",
       "    .dataframe tbody tr th:only-of-type {\n",
       "        vertical-align: middle;\n",
       "    }\n",
       "\n",
       "    .dataframe tbody tr th {\n",
       "        vertical-align: top;\n",
       "    }\n",
       "\n",
       "    .dataframe thead th {\n",
       "        text-align: right;\n",
       "    }\n",
       "</style>\n",
       "<table border=\"1\" class=\"dataframe\">\n",
       "  <thead>\n",
       "    <tr style=\"text-align: right;\">\n",
       "      <th></th>\n",
       "      <th>user_unique</th>\n",
       "    </tr>\n",
       "    <tr>\n",
       "      <th>group_id</th>\n",
       "      <th></th>\n",
       "    </tr>\n",
       "  </thead>\n",
       "  <tbody>\n",
       "    <tr>\n",
       "      <th>246</th>\n",
       "      <td>2483</td>\n",
       "    </tr>\n",
       "    <tr>\n",
       "      <th>247</th>\n",
       "      <td>2512</td>\n",
       "    </tr>\n",
       "    <tr>\n",
       "      <th>248</th>\n",
       "      <td>2535</td>\n",
       "    </tr>\n",
       "  </tbody>\n",
       "</table>\n",
       "</div>"
      ],
      "text/plain": [
       "          user_unique\n",
       "group_id             \n",
       "246              2483\n",
       "247              2512\n",
       "248              2535"
      ]
     },
     "execution_count": 13,
     "metadata": {},
     "output_type": "execute_result"
    }
   ],
   "source": [
    "# группируем по группам\n",
    "data.groupby(by='group_id').agg(user_unique = ('device_id', 'nunique'))"
   ]
  },
  {
   "cell_type": "markdown",
   "id": "5a0e76aa",
   "metadata": {},
   "source": [
    "**Комментарий:** в 246 и 247 группе со старыми шрифтами по 2484 и 2513 уникальных пользователей, в 248 группе с новыми шрифтами 2537 уникальных пользователей."
   ]
  },
  {
   "cell_type": "markdown",
   "id": "9fb1f38f",
   "metadata": {},
   "source": [
    "Перед A/A тестом проверим пересикаются ли пользователи в группах:"
   ]
  },
  {
   "cell_type": "code",
   "execution_count": 14,
   "id": "7889e806",
   "metadata": {},
   "outputs": [
    {
     "data": {
      "text/plain": [
       "device_id    0\n",
       "group_id     0\n",
       "dtype: int64"
      ]
     },
     "execution_count": 14,
     "metadata": {},
     "output_type": "execute_result"
    }
   ],
   "source": [
    "data.groupby('device_id')['group_id'].nunique().reset_index().query('group_id > 1').count()"
   ]
  },
  {
   "cell_type": "markdown",
   "id": "a7bb315b",
   "metadata": {},
   "source": [
    "В первую очередь необходимо произвести анализ A/A теста, который даст нам понять будет ли корректно проводить A/B тест. По первичным критериям мы такой тест провести можем - колличество пользователей в группах практически не различается, пользователи не пересикаются по группам.  \n",
    "Определим, находят ли статистическую критерии разницу между A A группами, для этого построим функцию, которую будем использовать и далее:"
   ]
  },
  {
   "cell_type": "code",
   "execution_count": 15,
   "id": "a1caabd4",
   "metadata": {},
   "outputs": [],
   "source": [
    "# создадим функцию, куда будем помещать 2 выборки, название события и уровень стат. значимости\n",
    "# создавать функцию мы будем под двусторонний тест, поскольку в будущих гипотезах колличество пользователей может отличаться\n",
    "# как в большую, так и меньшую сторону\n",
    "def stat_test(data_one, data_two, event_name, alpha):\n",
    "    \n",
    "    # посчитаем пользователей в обоих выборках\n",
    "    count_device = np.asarray([data_one['device_id'].nunique(), data_two['device_id'].nunique()])\n",
    "\n",
    "    # посчитаем пользователей активных по событию\n",
    "    count_act_device = np.asarray(\n",
    "        [data_one.loc[data_one['event_name'] == event_name, 'device_id'].nunique(),\n",
    "         data_two.loc[data_two['event_name'] == event_name, 'device_id'].nunique()])\n",
    "    \n",
    "    p1 = count_act_device[0] / count_device[0]\n",
    "    p2 = count_act_device[1] / count_device[1]\n",
    "    p_combined = (count_act_device[0] + count_act_device[1]) / (count_device[0] + count_device[1])\n",
    "    difference = p1 - p2\n",
    "    \n",
    "    # подсчет числа стандартных отклонений от среднего значения\n",
    "    z_value = difference / mth.sqrt(p_combined * (1 - p_combined) * (1/count_device[0] + 1/count_device[1]))\n",
    "    \n",
    "    # стандартное нормальное распределение\n",
    "    distr = st.norm(0, 1)\n",
    "    \n",
    "    # поправка Шидака\n",
    "#     sh_alpha = 1 - (1 - aplha)**(1/16)\n",
    "    \n",
    "    # расчет p_value под двусторонний тест\n",
    "    p_value = (1 - distr.cdf(abs(z_value))) * 2\n",
    "        \n",
    "    print('Имя события: {}, p_value: {}'.format(event_name, p_value))    \n",
    "    \n",
    "    if p_value < alpha:\n",
    "        print('Отвергаем нулевую гипотезу, есть значимые различия')\n",
    "    else:\n",
    "        print('Не получилось отвергнуть нулевую гипотезу, нет значимых различий')"
   ]
  },
  {
   "cell_type": "markdown",
   "id": "0b5d0db1",
   "metadata": {},
   "source": [
    "Можем приступать к анализу A/A теста между 246 и 247 группами, мы и так знаем, что самое популярное событие - это посещение главной страницы, поэтому можем сразу перебрать все события."
   ]
  },
  {
   "cell_type": "markdown",
   "id": "e3632efc",
   "metadata": {},
   "source": [
    "Сформулируем нулевую и альтернативную гипотезу: \n",
    "- **Нулевая:** различий в колличестве уникальных пользователей по событию нет\n",
    "- **Альтернативная:** различия в колличестве уникальных пользователей по событию есть"
   ]
  },
  {
   "cell_type": "code",
   "execution_count": 16,
   "id": "6b8e68b2",
   "metadata": {},
   "outputs": [
    {
     "name": "stdout",
     "output_type": "stream",
     "text": [
      "Имя события: MainScreenAppear, p_value: 0.7526703436483038\n",
      "Не получилось отвергнуть нулевую гипотезу, нет значимых различий\n",
      "\n",
      "Имя события: OffersScreenAppear, p_value: 0.24786096925282264\n",
      "Не получилось отвергнуть нулевую гипотезу, нет значимых различий\n",
      "\n",
      "Имя события: CartScreenAppear, p_value: 0.22867643757335676\n",
      "Не получилось отвергнуть нулевую гипотезу, нет значимых различий\n",
      "\n",
      "Имя события: PaymentScreenSuccessful, p_value: 0.11446627829276612\n",
      "Не получилось отвергнуть нулевую гипотезу, нет значимых различий\n",
      "\n"
     ]
    }
   ],
   "source": [
    "for name in data['event_name'].unique():\n",
    "    stat_test(data[data['group_id'] == 246], data[data['group_id'] == 247], name, alpha = 0.05)\n",
    "    print()"
   ]
  },
  {
   "cell_type": "markdown",
   "id": "b0de4a23",
   "metadata": {},
   "source": [
    "**Комментарий:** в рамках A/A теста различий нет, можно запускать A/B тесты с 248 группой."
   ]
  },
  {
   "cell_type": "markdown",
   "id": "6084455c",
   "metadata": {},
   "source": [
    "<div class=\"alert alert-success\">\n",
    "<b>Комментарий с комплиментом ревьюера:</b>\n",
    "\n",
    "Согласен, разбиение по группам работает корректно.\n",
    "</div>\n"
   ]
  },
  {
   "cell_type": "markdown",
   "id": "fdf1b93a",
   "metadata": {},
   "source": [
    "В рамках технического задания нам необходимо статистически достоверно сравнить обе контрольные группы с экспериментальной и также сравнить объединенные контрольные группы с экспериментальной, учитывая что везде по 4 события, получаем 12 A/B тестов. "
   ]
  },
  {
   "cell_type": "markdown",
   "id": "ead71bff",
   "metadata": {},
   "source": [
    "Cравним на стат. разницу контрольную 246 группу и экспериментальную 248 группу:"
   ]
  },
  {
   "cell_type": "code",
   "execution_count": 17,
   "id": "9780d88d",
   "metadata": {},
   "outputs": [
    {
     "name": "stdout",
     "output_type": "stream",
     "text": [
      "Имя события: MainScreenAppear, p_value: 0.3387114076159288\n",
      "Не получилось отвергнуть нулевую гипотезу, нет значимых различий\n",
      "\n",
      "Имя события: OffersScreenAppear, p_value: 0.21442476639710506\n",
      "Не получилось отвергнуть нулевую гипотезу, нет значимых различий\n",
      "\n",
      "Имя события: CartScreenAppear, p_value: 0.08067367598823139\n",
      "Не получилось отвергнуть нулевую гипотезу, нет значимых различий\n",
      "\n",
      "Имя события: PaymentScreenSuccessful, p_value: 0.21693033984516674\n",
      "Не получилось отвергнуть нулевую гипотезу, нет значимых различий\n",
      "\n"
     ]
    }
   ],
   "source": [
    "for name in data['event_name'].unique():\n",
    "    stat_test(data[data['group_id'] == 246], data[data['group_id'] == 248], name, alpha = 0.05)\n",
    "    print()"
   ]
  },
  {
   "cell_type": "markdown",
   "id": "8358ff33",
   "metadata": {},
   "source": [
    "**Комментарий:** стат. знач. разницы между группами нет."
   ]
  },
  {
   "cell_type": "markdown",
   "id": "e2695f73",
   "metadata": {},
   "source": [
    "Cравним на стат. разницу контрольную 247 группу и экспериментальную 248 группу:"
   ]
  },
  {
   "cell_type": "code",
   "execution_count": 18,
   "id": "308432ae",
   "metadata": {},
   "outputs": [
    {
     "name": "stdout",
     "output_type": "stream",
     "text": [
      "Имя события: MainScreenAppear, p_value: 0.5194964354051703\n",
      "Не получилось отвергнуть нулевую гипотезу, нет значимых различий\n",
      "\n",
      "Имя события: OffersScreenAppear, p_value: 0.9333751305879443\n",
      "Не получилось отвергнуть нулевую гипотезу, нет значимых различий\n",
      "\n",
      "Имя события: CartScreenAppear, p_value: 0.5878284605111943\n",
      "Не получилось отвергнуть нулевую гипотезу, нет значимых различий\n",
      "\n",
      "Имя события: PaymentScreenSuccessful, p_value: 0.7275718682261119\n",
      "Не получилось отвергнуть нулевую гипотезу, нет значимых различий\n",
      "\n"
     ]
    }
   ],
   "source": [
    "for name in data['event_name'].unique():\n",
    "    stat_test(data[data['group_id'] == 247], data[data['group_id'] == 248], name, alpha = 0.05)\n",
    "    print()"
   ]
  },
  {
   "cell_type": "markdown",
   "id": "baaa2b6b",
   "metadata": {},
   "source": [
    "**Комментарий:** стат. знач. разницы между группами нет."
   ]
  },
  {
   "cell_type": "markdown",
   "id": "7127b65e",
   "metadata": {},
   "source": [
    "Объеденим контрольные 246 и 247 группы и сравним с 248 группой:"
   ]
  },
  {
   "cell_type": "code",
   "execution_count": 19,
   "id": "408a2cd6",
   "metadata": {},
   "outputs": [
    {
     "name": "stdout",
     "output_type": "stream",
     "text": [
      "Имя события: MainScreenAppear, p_value: 0.3486684291093256\n",
      "Не получилось отвергнуть нулевую гипотезу, нет значимых различий\n",
      "\n",
      "Имя события: OffersScreenAppear, p_value: 0.44582745409482394\n",
      "Не получилось отвергнуть нулевую гипотезу, нет значимых различий\n",
      "\n",
      "Имя события: CartScreenAppear, p_value: 0.18683558686831558\n",
      "Не получилось отвергнуть нулевую гипотезу, нет значимых различий\n",
      "\n",
      "Имя события: PaymentScreenSuccessful, p_value: 0.6107918742187335\n",
      "Не получилось отвергнуть нулевую гипотезу, нет значимых различий\n",
      "\n"
     ]
    }
   ],
   "source": [
    "for name in data['event_name'].unique():\n",
    "    stat_test(data[data['group_id'] != 248], data[data['group_id'] == 248], name, alpha = 0.05)\n",
    "    print()"
   ]
  },
  {
   "cell_type": "markdown",
   "id": "47352b0e",
   "metadata": {},
   "source": [
    "**Комментарий:** между объединенными контрольными и экспериментальной группой также нет статистически значимой разницы."
   ]
  },
  {
   "cell_type": "markdown",
   "id": "33c6583a",
   "metadata": {},
   "source": [
    "При проверке гипотез был выбран уровень статистической значимости равный 5%, было проведено 4 проверки гипотезы в рамках A/A и 12 проверок гипотезы A/B теста. Я бы не изменял уровень стас. значимости поскольку значения p_value слишком высокие и поправки скорее всего не имеют смысла."
   ]
  },
  {
   "cell_type": "markdown",
   "id": "2c80aa9c",
   "metadata": {},
   "source": [
    "<div class=\"alert alert-success\">\n",
    "<b>Комментарий с комплиментом ревьюера:</b>\n",
    "    \n",
    "Гипотезы проверены верно, молодец.\n",
    "</div>\n"
   ]
  },
  {
   "cell_type": "markdown",
   "id": "f65ee01d",
   "metadata": {},
   "source": [
    "<div style=\"background: #B0E0E6; padding: 5px; border: 1px solid SteelBlue; border-radius: 5px;\">\n",
    "     \n",
    "**Заключение по анализу A/A/B-теста**\n",
    "---\n",
    "**Обзор проделанной работы:**\n",
    "- достигнута цель исследования, сформированно рациональное решение по принятию шрифтов;\n",
    "- проведена предобработка данных исходного массива данных;\n",
    "- углубленно изучены данные, их наполненность по времени;\n",
    "- сформированна воронка событий;\n",
    "- расчитанна статистическая значимость групп теста.\n",
    "\n",
    "---\n",
    "**Предобработка данных:**  \n",
    "- изменены названия столбцов;\n",
    "- изменен формат данных в столбце с датой;\n",
    "- создан дополнительный столбец только с датой;\n",
    "- найдены и удалены дубликаты в данных. \n",
    "  \n",
    "---\n",
    "**Анализ информации и событий:**  \n",
    "В рамках изучения данных и формировании воронки событий обнаруженно, что данные наполнены только с 2019-08-01, а событие 'Tutorial' не относится к циклу покупки, поэтому анализ эксперимент производил со срезом данных по дате и событиям.\n",
    "    \n",
    "       \n",
    "---\n",
    "**Анализ A/A/B-теста:**  \n",
    "- в рамках A/A теста между 246 и 247 группами статистически значимых различий нет;\n",
    "- в рамках A/B теста между 246 и 248, 247 и 248, (246+247) и 248 группами статистически значимых различий нет\n",
    "Значения p_value везде достаточно высокие, это говорит о том, что распределение наблюдений очень близкое друг к другу.\n",
    "\n",
    "**Итоговый вывод**:  \n",
    "Статистически разница с внедрением новых шрифтов не обнаружена, скорее всего новый шрифт на влияет значительно на пользователей. \n",
    "</div>"
   ]
  },
  {
   "cell_type": "markdown",
   "id": "373befd7",
   "metadata": {},
   "source": [
    "\n",
    "<div class=\"alert alert-success\">\n",
    "<b>Комментарий с комплиментом ревьюера:</b> \n",
    "    \n",
    "Хороший аналитический вывод, который можно предоставить менеджерам. Верно, изменение шрифтов никак не повлияло на поведение пользователей.\n",
    "\n",
    "</div>\n"
   ]
  }
 ],
 "metadata": {
  "ExecuteTimeLog": [
   {
    "duration": 1045,
    "start_time": "2023-05-21T14:42:58.055Z"
   },
   {
    "duration": 552,
    "start_time": "2023-05-21T14:42:59.103Z"
   },
   {
    "duration": 56,
    "start_time": "2023-05-21T14:42:59.656Z"
   },
   {
    "duration": 136,
    "start_time": "2023-05-21T14:42:59.713Z"
   },
   {
    "duration": 9,
    "start_time": "2023-05-21T14:42:59.852Z"
   },
   {
    "duration": 440,
    "start_time": "2023-05-21T14:42:59.863Z"
   },
   {
    "duration": 20,
    "start_time": "2023-05-21T14:43:00.305Z"
   },
   {
    "duration": 96,
    "start_time": "2023-05-21T14:43:00.327Z"
   },
   {
    "duration": 41,
    "start_time": "2023-05-21T14:43:00.425Z"
   },
   {
    "duration": 81,
    "start_time": "2023-05-21T14:43:00.468Z"
   },
   {
    "duration": 21,
    "start_time": "2023-05-21T14:43:00.550Z"
   },
   {
    "duration": 30,
    "start_time": "2023-05-21T14:43:00.573Z"
   },
   {
    "duration": 41,
    "start_time": "2023-05-21T14:43:00.605Z"
   },
   {
    "duration": 58,
    "start_time": "2023-05-21T14:43:00.649Z"
   },
   {
    "duration": 35,
    "start_time": "2023-05-21T14:43:00.709Z"
   },
   {
    "duration": 6,
    "start_time": "2023-05-21T14:43:00.745Z"
   },
   {
    "duration": 154,
    "start_time": "2023-05-21T14:43:00.753Z"
   },
   {
    "duration": 102,
    "start_time": "2023-05-21T14:43:00.909Z"
   },
   {
    "duration": 125,
    "start_time": "2023-05-21T14:43:01.012Z"
   },
   {
    "duration": 139,
    "start_time": "2023-05-21T14:43:01.138Z"
   },
   {
    "duration": 67,
    "start_time": "2023-05-21T15:06:12.157Z"
   },
   {
    "duration": 1312,
    "start_time": "2023-05-21T15:06:16.459Z"
   },
   {
    "duration": 391,
    "start_time": "2023-05-21T15:06:17.773Z"
   },
   {
    "duration": 59,
    "start_time": "2023-05-21T15:06:18.165Z"
   },
   {
    "duration": 141,
    "start_time": "2023-05-21T15:06:18.225Z"
   },
   {
    "duration": 25,
    "start_time": "2023-05-21T15:06:18.369Z"
   },
   {
    "duration": 427,
    "start_time": "2023-05-21T15:06:18.403Z"
   },
   {
    "duration": 30,
    "start_time": "2023-05-21T15:06:18.832Z"
   },
   {
    "duration": 68,
    "start_time": "2023-05-21T15:06:18.864Z"
   },
   {
    "duration": 53,
    "start_time": "2023-05-21T15:06:18.935Z"
   },
   {
    "duration": 87,
    "start_time": "2023-05-21T15:06:18.993Z"
   },
   {
    "duration": 34,
    "start_time": "2023-05-21T15:06:19.081Z"
   },
   {
    "duration": 10,
    "start_time": "2023-05-21T15:06:19.116Z"
   },
   {
    "duration": 82,
    "start_time": "2023-05-21T15:06:19.128Z"
   },
   {
    "duration": 52,
    "start_time": "2023-05-21T15:06:19.213Z"
   },
   {
    "duration": 8,
    "start_time": "2023-05-21T15:06:19.267Z"
   },
   {
    "duration": 179,
    "start_time": "2023-05-21T15:06:19.276Z"
   },
   {
    "duration": 157,
    "start_time": "2023-05-21T15:06:19.457Z"
   },
   {
    "duration": 128,
    "start_time": "2023-05-21T15:06:19.616Z"
   },
   {
    "duration": 196,
    "start_time": "2023-05-21T15:06:19.746Z"
   },
   {
    "duration": 347,
    "start_time": "2023-05-21T15:06:32.772Z"
   },
   {
    "duration": 378,
    "start_time": "2023-05-21T15:06:55.278Z"
   },
   {
    "duration": 446,
    "start_time": "2023-05-21T15:07:03.961Z"
   },
   {
    "duration": 1023,
    "start_time": "2023-05-21T15:07:42.460Z"
   },
   {
    "duration": 611,
    "start_time": "2023-05-21T15:07:43.496Z"
   },
   {
    "duration": 58,
    "start_time": "2023-05-21T15:07:44.111Z"
   },
   {
    "duration": 158,
    "start_time": "2023-05-21T15:07:44.172Z"
   },
   {
    "duration": 10,
    "start_time": "2023-05-21T15:07:44.331Z"
   },
   {
    "duration": 452,
    "start_time": "2023-05-21T15:07:44.342Z"
   },
   {
    "duration": 21,
    "start_time": "2023-05-21T15:07:44.795Z"
   },
   {
    "duration": 50,
    "start_time": "2023-05-21T15:07:44.819Z"
   },
   {
    "duration": 58,
    "start_time": "2023-05-21T15:07:44.871Z"
   },
   {
    "duration": 103,
    "start_time": "2023-05-21T15:07:44.931Z"
   },
   {
    "duration": 20,
    "start_time": "2023-05-21T15:07:45.036Z"
   },
   {
    "duration": 9,
    "start_time": "2023-05-21T15:07:45.058Z"
   },
   {
    "duration": 61,
    "start_time": "2023-05-21T15:07:45.090Z"
   },
   {
    "duration": 50,
    "start_time": "2023-05-21T15:07:45.153Z"
   },
   {
    "duration": 8,
    "start_time": "2023-05-21T15:07:45.207Z"
   },
   {
    "duration": 124,
    "start_time": "2023-05-21T15:07:45.217Z"
   },
   {
    "duration": 108,
    "start_time": "2023-05-21T15:07:45.343Z"
   },
   {
    "duration": 113,
    "start_time": "2023-05-21T15:07:45.453Z"
   },
   {
    "duration": 143,
    "start_time": "2023-05-21T15:07:45.568Z"
   },
   {
    "duration": 349,
    "start_time": "2023-05-21T15:08:02.662Z"
   },
   {
    "duration": 1101,
    "start_time": "2023-05-21T15:08:41.512Z"
   },
   {
    "duration": 463,
    "start_time": "2023-05-21T15:08:42.615Z"
   },
   {
    "duration": 80,
    "start_time": "2023-05-21T15:08:43.080Z"
   },
   {
    "duration": 166,
    "start_time": "2023-05-21T15:08:43.163Z"
   },
   {
    "duration": 12,
    "start_time": "2023-05-21T15:08:43.330Z"
   },
   {
    "duration": 440,
    "start_time": "2023-05-21T15:08:43.344Z"
   },
   {
    "duration": 29,
    "start_time": "2023-05-21T15:08:43.786Z"
   },
   {
    "duration": 42,
    "start_time": "2023-05-21T15:08:43.816Z"
   },
   {
    "duration": 51,
    "start_time": "2023-05-21T15:08:43.859Z"
   },
   {
    "duration": 76,
    "start_time": "2023-05-21T15:08:43.913Z"
   },
   {
    "duration": 25,
    "start_time": "2023-05-21T15:08:43.990Z"
   },
   {
    "duration": 9,
    "start_time": "2023-05-21T15:08:44.016Z"
   },
   {
    "duration": 78,
    "start_time": "2023-05-21T15:08:44.027Z"
   },
   {
    "duration": 36,
    "start_time": "2023-05-21T15:08:44.106Z"
   },
   {
    "duration": 6,
    "start_time": "2023-05-21T15:08:44.144Z"
   },
   {
    "duration": 127,
    "start_time": "2023-05-21T15:08:44.151Z"
   },
   {
    "duration": 135,
    "start_time": "2023-05-21T15:08:44.279Z"
   },
   {
    "duration": 110,
    "start_time": "2023-05-21T15:08:44.416Z"
   },
   {
    "duration": 141,
    "start_time": "2023-05-21T15:08:44.527Z"
   },
   {
    "duration": 1334,
    "start_time": "2023-05-21T19:16:07.378Z"
   },
   {
    "duration": 435,
    "start_time": "2023-05-21T19:16:08.714Z"
   },
   {
    "duration": 56,
    "start_time": "2023-05-21T19:16:09.151Z"
   },
   {
    "duration": 192,
    "start_time": "2023-05-21T19:16:09.209Z"
   },
   {
    "duration": 12,
    "start_time": "2023-05-21T19:16:09.403Z"
   },
   {
    "duration": 551,
    "start_time": "2023-05-21T19:16:09.417Z"
   },
   {
    "duration": 25,
    "start_time": "2023-05-21T19:16:09.971Z"
   },
   {
    "duration": 77,
    "start_time": "2023-05-21T19:16:09.998Z"
   },
   {
    "duration": 34,
    "start_time": "2023-05-21T19:16:10.077Z"
   },
   {
    "duration": 91,
    "start_time": "2023-05-21T19:16:10.114Z"
   },
   {
    "duration": 25,
    "start_time": "2023-05-21T19:16:10.206Z"
   },
   {
    "duration": 16,
    "start_time": "2023-05-21T19:16:10.233Z"
   },
   {
    "duration": 92,
    "start_time": "2023-05-21T19:16:10.251Z"
   },
   {
    "duration": 45,
    "start_time": "2023-05-21T19:16:10.346Z"
   },
   {
    "duration": 7,
    "start_time": "2023-05-21T19:16:10.393Z"
   },
   {
    "duration": 146,
    "start_time": "2023-05-21T19:16:10.402Z"
   },
   {
    "duration": 135,
    "start_time": "2023-05-21T19:16:10.550Z"
   },
   {
    "duration": 137,
    "start_time": "2023-05-21T19:16:10.687Z"
   },
   {
    "duration": 175,
    "start_time": "2023-05-21T19:16:10.825Z"
   },
   {
    "duration": 1255,
    "start_time": "2023-07-23T21:11:21.692Z"
   },
   {
    "duration": 648,
    "start_time": "2023-07-23T21:11:22.949Z"
   },
   {
    "duration": 68,
    "start_time": "2023-07-23T21:11:23.599Z"
   },
   {
    "duration": 177,
    "start_time": "2023-07-23T21:11:23.669Z"
   },
   {
    "duration": 12,
    "start_time": "2023-07-23T21:11:23.848Z"
   },
   {
    "duration": 504,
    "start_time": "2023-07-23T21:11:23.862Z"
   },
   {
    "duration": 26,
    "start_time": "2023-07-23T21:11:24.368Z"
   },
   {
    "duration": 78,
    "start_time": "2023-07-23T21:11:24.396Z"
   },
   {
    "duration": 29,
    "start_time": "2023-07-23T21:11:24.476Z"
   },
   {
    "duration": 90,
    "start_time": "2023-07-23T21:11:24.507Z"
   },
   {
    "duration": 23,
    "start_time": "2023-07-23T21:11:24.599Z"
   },
   {
    "duration": 8,
    "start_time": "2023-07-23T21:11:24.624Z"
   },
   {
    "duration": 52,
    "start_time": "2023-07-23T21:11:24.651Z"
   },
   {
    "duration": 57,
    "start_time": "2023-07-23T21:11:24.707Z"
   },
   {
    "duration": 7,
    "start_time": "2023-07-23T21:11:24.765Z"
   },
   {
    "duration": 136,
    "start_time": "2023-07-23T21:11:24.773Z"
   },
   {
    "duration": 129,
    "start_time": "2023-07-23T21:11:24.911Z"
   },
   {
    "duration": 120,
    "start_time": "2023-07-23T21:11:25.042Z"
   },
   {
    "duration": 151,
    "start_time": "2023-07-23T21:11:25.164Z"
   }
  ],
  "kernelspec": {
   "display_name": "Python 3 (ipykernel)",
   "language": "python",
   "name": "python3"
  },
  "language_info": {
   "codemirror_mode": {
    "name": "ipython",
    "version": 3
   },
   "file_extension": ".py",
   "mimetype": "text/x-python",
   "name": "python",
   "nbconvert_exporter": "python",
   "pygments_lexer": "ipython3",
   "version": "3.9.16"
  },
  "toc": {
   "base_numbering": 1,
   "nav_menu": {},
   "number_sections": true,
   "sideBar": true,
   "skip_h1_title": true,
   "title_cell": "Table of Contents",
   "title_sidebar": "Contents",
   "toc_cell": false,
   "toc_position": {},
   "toc_section_display": true,
   "toc_window_display": false
  }
 },
 "nbformat": 4,
 "nbformat_minor": 5
}
