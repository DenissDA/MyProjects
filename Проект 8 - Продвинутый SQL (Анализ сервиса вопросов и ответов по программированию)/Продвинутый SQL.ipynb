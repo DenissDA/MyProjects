{
 "cells": [
  {
   "cell_type": "markdown",
   "id": "1caed393-1ce9-44c4-b90e-bd6e9b33a318",
   "metadata": {},
   "source": [
    "# Анализ сервиса вопросов и ответов по программированию"
   ]
  },
  {
   "cell_type": "markdown",
   "id": "72e604eb-1ac8-4ad5-a868-38064df86031",
   "metadata": {},
   "source": [
    "<b>Цель исследования</b> - анализ сервиса вопросов и ответов по программированию.\n",
    "\n",
    "<b>Исходные данные для исследования</b>  - самостоятельная работа основана на базе данных StackOverflow — сервиса вопросов и ответов о программировании с данными о постах за 2008 год. \n",
    "\n",
    "<div align='right'>Проектную работу выполнил студент Гагиев Денис. </div>"
   ]
  },
  {
   "cell_type": "markdown",
   "id": "6fd40053-7b40-48e0-9257-d93e1c0b1402",
   "metadata": {},
   "source": [
    "---"
   ]
  },
  {
   "cell_type": "markdown",
   "id": "58c7cc3e-5567-43b1-a318-ab8f50aa1f3b",
   "metadata": {},
   "source": [
    "**Задача 1** - найдите количество вопросов, которые набрали больше 300 очков или как минимум 100 раз были добавлены в «Закладки»."
   ]
  },
  {
   "cell_type": "code",
   "execution_count": 14,
   "id": "531355b0-3fab-4b67-b40e-b74d7d335586",
   "metadata": {},
   "outputs": [
    {
     "data": {
      "text/plain": [
       "'\\nSELECT COUNT(title)\\nFROM stackoverflow.posts\\nWHERE score > 300 OR favorites_count >= 100\\n'"
      ]
     },
     "execution_count": 14,
     "metadata": {},
     "output_type": "execute_result"
    }
   ],
   "source": [
    "'''\n",
    "SELECT COUNT(title)\n",
    "FROM stackoverflow.posts\n",
    "WHERE score > 300 OR favorites_count >= 100\n",
    "'''"
   ]
  },
  {
   "cell_type": "markdown",
   "id": "88757939-dcd4-4d61-8c17-297a54647244",
   "metadata": {},
   "source": [
    "**Задача 2** - сколько в среднем в день задавали вопросов с 1 по 18 ноября 2008 включительно? Результат округлите до целого числа."
   ]
  },
  {
   "cell_type": "code",
   "execution_count": 15,
   "id": "7e123cb2-3242-4aab-9bb7-d170f2d0561d",
   "metadata": {
    "tags": []
   },
   "outputs": [
    {
     "data": {
      "text/plain": [
       "\"\\nWITH df AS (\\nSELECT\\n    DATE_TRUNC('day', creation_date)::DATE AS posts_date,\\n    COUNT(*) AS posts_cnt\\nFROM stackoverflow.posts\\nWHERE creation_date::DATE BETWEEN '01.11.2008' AND '18.11.2008' AND post_type_id = 1\\nGROUP BY 1)\\n\\nSELECT\\n    ROUND(AVG(posts_cnt))\\nFROM df\\n\""
      ]
     },
     "execution_count": 15,
     "metadata": {},
     "output_type": "execute_result"
    }
   ],
   "source": [
    "'''\n",
    "WITH df AS (\n",
    "SELECT\n",
    "    DATE_TRUNC('day', creation_date)::DATE AS posts_date,\n",
    "    COUNT(*) AS posts_cnt\n",
    "FROM stackoverflow.posts\n",
    "WHERE creation_date::DATE BETWEEN '01.11.2008' AND '18.11.2008' AND post_type_id = 1\n",
    "GROUP BY 1)\n",
    "\n",
    "SELECT\n",
    "    ROUND(AVG(posts_cnt))\n",
    "FROM df\n",
    "'''"
   ]
  },
  {
   "cell_type": "markdown",
   "id": "81f9d43a-9a85-4c79-a249-c3cb0e33c250",
   "metadata": {},
   "source": [
    "**Задача 3** - Сколько пользователей получили значки сразу в день регистрации? Выведите количество уникальных пользователей."
   ]
  },
  {
   "cell_type": "code",
   "execution_count": 16,
   "id": "73cde7b6-5af2-4489-b1af-df5bc0ebe74f",
   "metadata": {
    "tags": []
   },
   "outputs": [
    {
     "data": {
      "text/plain": [
       "'\\nSELECT\\n    COUNT(DISTINCT u.id)\\nFROM stackoverflow.users u JOIN stackoverflow.badges b ON u.id=b.user_id\\nWHERE u.creation_date::DATE = b.creation_date::DATE\\n'"
      ]
     },
     "execution_count": 16,
     "metadata": {},
     "output_type": "execute_result"
    }
   ],
   "source": [
    "'''\n",
    "SELECT\n",
    "    COUNT(DISTINCT u.id)\n",
    "FROM stackoverflow.users u JOIN stackoverflow.badges b ON u.id=b.user_id\n",
    "WHERE u.creation_date::DATE = b.creation_date::DATE\n",
    "'''"
   ]
  },
  {
   "cell_type": "markdown",
   "id": "a8da6bf9-bb0d-44b2-b495-3c4db6f7d7d8",
   "metadata": {},
   "source": [
    "**Задача 4** - Сколько уникальных постов пользователя с именем Joel Coehoorn получили хотя бы один голос?"
   ]
  },
  {
   "cell_type": "code",
   "execution_count": 17,
   "id": "d182ee53-38d8-4094-b0e4-2fdb18cd5f85",
   "metadata": {
    "tags": []
   },
   "outputs": [
    {
     "data": {
      "text/plain": [
       "\"\\nSELECT\\n    COUNT(DISTINCT p.title)\\nFROM stackoverflow.votes v\\nLEFT JOIN stackoverflow.posts p ON v.post_id = p.id\\nWHERE p.user_id = '3043'\\n\""
      ]
     },
     "execution_count": 17,
     "metadata": {},
     "output_type": "execute_result"
    }
   ],
   "source": [
    "'''\n",
    "SELECT\n",
    "    COUNT(DISTINCT p.title)\n",
    "FROM stackoverflow.votes v\n",
    "LEFT JOIN stackoverflow.posts p ON v.post_id = p.id\n",
    "WHERE p.user_id = '3043'\n",
    "'''"
   ]
  },
  {
   "cell_type": "markdown",
   "id": "20c0a6f3-5eef-45b3-a84d-5e49836fc3e4",
   "metadata": {},
   "source": [
    "**Задача 5** - Выгрузите все поля таблицы vote_types. Добавьте к таблице поле rank, в которое войдут номера записей в обратном порядке. Таблица должна быть отсортирована по полю id."
   ]
  },
  {
   "cell_type": "code",
   "execution_count": 18,
   "id": "7e4b67ff-3358-4664-be1f-fb099ead3db6",
   "metadata": {
    "tags": []
   },
   "outputs": [
    {
     "data": {
      "text/plain": [
       "'\\nSELECT *,\\n    RANK() OVER (ORDER BY id desc )\\nFROM stackoverflow.vote_types\\nORDER BY id \\n'"
      ]
     },
     "execution_count": 18,
     "metadata": {},
     "output_type": "execute_result"
    }
   ],
   "source": [
    "'''\n",
    "SELECT *,\n",
    "    RANK() OVER (ORDER BY id desc )\n",
    "FROM stackoverflow.vote_types\n",
    "ORDER BY id \n",
    "'''"
   ]
  },
  {
   "cell_type": "markdown",
   "id": "990d7c3a-bd21-4fad-a82d-9dc8a6f4a1cf",
   "metadata": {},
   "source": [
    "**Задача 6** - Отберите 10 пользователей, которые поставили больше всего голосов типа Close. Отобразите таблицу из двух полей: идентификатором пользователя и количеством голосов. Отсортируйте данные сначала по убыванию количества голосов, потом по убыванию значения идентификатора пользователя."
   ]
  },
  {
   "cell_type": "code",
   "execution_count": 19,
   "id": "c9bace69-5ed6-4249-a66a-954a31a7dde9",
   "metadata": {
    "tags": []
   },
   "outputs": [
    {
     "data": {
      "text/plain": [
       "\"\\nSELECT\\n    v.user_id,\\n    COUNT(*)\\nFROM stackoverflow.votes v\\nJOIN stackoverflow.vote_types vt ON v.vote_type_id = vt.id\\nWHERE vt.name = 'Close'\\nGROUP BY 1\\nORDER BY 2 DESC, 1 DESC\\nLIMIT 10\\n\""
      ]
     },
     "execution_count": 19,
     "metadata": {},
     "output_type": "execute_result"
    }
   ],
   "source": [
    "'''\n",
    "SELECT\n",
    "    v.user_id,\n",
    "    COUNT(*)\n",
    "FROM stackoverflow.votes v\n",
    "JOIN stackoverflow.vote_types vt ON v.vote_type_id = vt.id\n",
    "WHERE vt.name = 'Close'\n",
    "GROUP BY 1\n",
    "ORDER BY 2 DESC, 1 DESC\n",
    "LIMIT 10\n",
    "'''"
   ]
  },
  {
   "cell_type": "markdown",
   "id": "9c3961ce-347f-4364-b80e-58256a245825",
   "metadata": {},
   "source": [
    "**Задача 7** - Отберите 10 пользователей по количеству значков, полученных в период с 15 ноября по 15 декабря 2008 года включительно.\n",
    "Отобразите несколько полей:\n",
    "- идентификатор пользователя;\n",
    "- число значков;\n",
    "- место в рейтинге — чем больше значков, тем выше рейтинг.\n",
    "\n",
    "Пользователям, которые набрали одинаковое количество значков, присвойте одно и то же место в рейтинге.\n",
    "Отсортируйте записи по количеству значков по убыванию, а затем по возрастанию значения идентификатора пользователя."
   ]
  },
  {
   "cell_type": "code",
   "execution_count": 20,
   "id": "3a39827f-df86-4743-8080-7036fe2c17e7",
   "metadata": {
    "tags": []
   },
   "outputs": [
    {
     "data": {
      "text/plain": [
       "\"\\nWITH df AS\\n    (SELECT\\n        u.id,\\n        COUNT(*) AS badges_cnt\\n    FROM stackoverflow.users u\\n    RIGHT JOIN stackoverflow.badges b ON u.id=b.user_id\\n    WHERE b.creation_date::DATE BETWEEN ('15.11.2008') AND ('15.12.2008')\\n    GROUP BY 1\\n    ORDER BY 2 DESC, 1\\n    LIMIT 10)\\n    \\nSELECT *,\\n    DENSE_RANK() OVER (ORDER BY badges_cnt DESC)\\nFROM df\\n\""
      ]
     },
     "execution_count": 20,
     "metadata": {},
     "output_type": "execute_result"
    }
   ],
   "source": [
    "'''\n",
    "WITH df AS\n",
    "    (SELECT\n",
    "        u.id,\n",
    "        COUNT(*) AS badges_cnt\n",
    "    FROM stackoverflow.users u\n",
    "    RIGHT JOIN stackoverflow.badges b ON u.id=b.user_id\n",
    "    WHERE b.creation_date::DATE BETWEEN ('15.11.2008') AND ('15.12.2008')\n",
    "    GROUP BY 1\n",
    "    ORDER BY 2 DESC, 1\n",
    "    LIMIT 10)\n",
    "    \n",
    "SELECT *,\n",
    "    DENSE_RANK() OVER (ORDER BY badges_cnt DESC)\n",
    "FROM df\n",
    "'''"
   ]
  },
  {
   "cell_type": "markdown",
   "id": "355017c5-f85e-4fb2-a914-a6f168084258",
   "metadata": {},
   "source": [
    "**Задача 8** - Сколько в среднем очков получает пост каждого пользователя?\n",
    "\n",
    "Сформируйте таблицу из следующих полей:\n",
    "- заголовок поста;\n",
    "- идентификатор пользователя;\n",
    "- число очков поста;\n",
    "- среднее число очков пользователя за пост, округлённое до целого числа.\n",
    "\n",
    "Не учитывайте посты без заголовка, а также те, что набрали ноль очков."
   ]
  },
  {
   "cell_type": "code",
   "execution_count": 21,
   "id": "24d81527-b55b-495b-b39e-251bf38fd983",
   "metadata": {
    "tags": []
   },
   "outputs": [
    {
     "data": {
      "text/plain": [
       "\"\\nSELECT\\n    title,\\n    user_id,\\n    score,\\n    ROUND(AVG(score) OVER (PARTITION BY user_id))\\nFROM stackoverflow.posts\\nWHERE title != '' AND score != 0\\n\""
      ]
     },
     "execution_count": 21,
     "metadata": {},
     "output_type": "execute_result"
    }
   ],
   "source": [
    "'''\n",
    "SELECT\n",
    "    title,\n",
    "    user_id,\n",
    "    score,\n",
    "    ROUND(AVG(score) OVER (PARTITION BY user_id))\n",
    "FROM stackoverflow.posts\n",
    "WHERE title != '' AND score != 0\n",
    "'''"
   ]
  },
  {
   "cell_type": "markdown",
   "id": "019df910-7e95-4eda-b36b-87df48d7e16b",
   "metadata": {},
   "source": [
    "**Задача 9** - Отобразите заголовки постов, которые были написаны пользователями, получившими более 1000 значков. Посты без заголовков не должны попасть в список."
   ]
  },
  {
   "cell_type": "code",
   "execution_count": 22,
   "id": "22a9ac1a-280f-4f17-b580-fa78211f1d0a",
   "metadata": {},
   "outputs": [
    {
     "data": {
      "text/plain": [
       "\"\\nSELECT\\n    title\\nFROM stackoverflow.posts\\nWHERE user_id = '22656' AND title != ''\\n\""
      ]
     },
     "execution_count": 22,
     "metadata": {},
     "output_type": "execute_result"
    }
   ],
   "source": [
    "'''\n",
    "SELECT\n",
    "    title\n",
    "FROM stackoverflow.posts\n",
    "WHERE user_id = '22656' AND title != ''\n",
    "'''"
   ]
  },
  {
   "cell_type": "markdown",
   "id": "3ea31004-f58b-4d00-8393-eaeeefed84a7",
   "metadata": {},
   "source": [
    "**Задача 10** - Напишите запрос, который выгрузит данные о пользователях из США (англ. United States). \n",
    "Разделите пользователей на три группы в зависимости от количества просмотров их профилей:\n",
    "- пользователям с числом просмотров больше либо равным 350 присвойте группу 1;\n",
    "- пользователям с числом просмотров меньше 350, но больше либо равно 100 — группу 2;\n",
    "- пользователям с числом просмотров меньше 100 — группу 3.\n",
    "\n",
    "Отобразите в итоговой таблице идентификатор пользователя, количество просмотров профиля и группу. Пользователи с нулевым количеством просмотров не должны войти в итоговую таблицу."
   ]
  },
  {
   "cell_type": "code",
   "execution_count": 23,
   "id": "3f981709-e722-49df-ac5e-812a2a55e3ed",
   "metadata": {},
   "outputs": [
    {
     "data": {
      "text/plain": [
       "\"\\nSELECT\\n    id,\\n    views,\\n    CASE\\n        WHEN views >= 350 THEN 1\\n        WHEN views < 100 THEN 3\\n        ELSE 2\\n    END AS group\\nFROM stackoverflow.users\\nWHERE location LIKE '%United States' AND views != 0\\n\""
      ]
     },
     "execution_count": 23,
     "metadata": {},
     "output_type": "execute_result"
    }
   ],
   "source": [
    "'''\n",
    "SELECT\n",
    "    id,\n",
    "    views,\n",
    "    CASE\n",
    "        WHEN views >= 350 THEN 1\n",
    "        WHEN views < 100 THEN 3\n",
    "        ELSE 2\n",
    "    END AS group\n",
    "FROM stackoverflow.users\n",
    "WHERE location LIKE '%United States' AND views != 0\n",
    "'''"
   ]
  },
  {
   "cell_type": "markdown",
   "id": "1a7f4b99-1dce-4b8a-82dc-2f0ccad6e525",
   "metadata": {},
   "source": [
    "**Задача 11** - Дополните предыдущий запрос. Отобразите лидеров каждой группы — пользователей, которые набрали максимальное число просмотров в своей группе. Выведите поля с идентификатором пользователя, группой и количеством просмотров. Отсортируйте таблицу по убыванию просмотров, а затем по возрастанию значения идентификатора."
   ]
  },
  {
   "cell_type": "code",
   "execution_count": 24,
   "id": "53f66870-2d75-491f-92ee-687fdf72c7db",
   "metadata": {},
   "outputs": [
    {
     "data": {
      "text/plain": [
       "\"\\nWITH df AS (\\n    SELECT\\n        df1.id,\\n        df1.groupi,\\n        df1.views,\\n        MAX(df1.views) OVER (PARTITION BY df1.groupi)\\n    FROM (\\n        SELECT\\n            id,\\n            views,\\n            CASE\\n                WHEN views >= 350 THEN 1\\n                WHEN views < 100 THEN 3\\n                ELSE 2\\n            END AS groupi\\n        FROM stackoverflow.users\\n        WHERE location LIKE '%United States%' AND views != 0) AS df1)\\n\\nSELECT\\n    id, groupi, views\\nFROM df\\nWHERE views = max\\nORDER BY 3 DESC, 1\\n\""
      ]
     },
     "execution_count": 24,
     "metadata": {},
     "output_type": "execute_result"
    }
   ],
   "source": [
    "'''\n",
    "WITH df AS (\n",
    "    SELECT\n",
    "        df1.id,\n",
    "        df1.groupi,\n",
    "        df1.views,\n",
    "        MAX(df1.views) OVER (PARTITION BY df1.groupi)\n",
    "    FROM (\n",
    "        SELECT\n",
    "            id,\n",
    "            views,\n",
    "            CASE\n",
    "                WHEN views >= 350 THEN 1\n",
    "                WHEN views < 100 THEN 3\n",
    "                ELSE 2\n",
    "            END AS groupi\n",
    "        FROM stackoverflow.users\n",
    "        WHERE location LIKE '%United States%' AND views != 0) AS df1)\n",
    "\n",
    "SELECT\n",
    "    id, groupi, views\n",
    "FROM df\n",
    "WHERE views = max\n",
    "ORDER BY 3 DESC, 1\n",
    "'''"
   ]
  },
  {
   "cell_type": "markdown",
   "id": "cff07748-b72f-4e9e-9587-06dc7a8ac9ca",
   "metadata": {},
   "source": [
    "**Задача 12** - Посчитайте ежедневный прирост новых пользователей в ноябре 2008 года. \n",
    "Сформируйте таблицу с полями:\n",
    "- номер дня;\n",
    "- число пользователей, зарегистрированных в этот день;\n",
    "- сумму пользователей с накоплением."
   ]
  },
  {
   "cell_type": "code",
   "execution_count": 25,
   "id": "68d6bfb0-a13e-4473-bdcb-af00c05c3d24",
   "metadata": {
    "tags": []
   },
   "outputs": [
    {
     "data": {
      "text/plain": [
       "\"\\nWITH df AS (SELECT\\n    EXTRACT(DAY FROM creation_date::DATE) AS days,\\n    COUNT(id) AS users_up\\nFROM stackoverflow.users\\n    WHERE creation_date::DATE BETWEEN '01.11.2008' AND '30.11.2008'\\nGROUP BY 1)\\n\\nSELECT *,\\n    SUM(users_up) OVER (order by days)\\nFROM df\\n\""
      ]
     },
     "execution_count": 25,
     "metadata": {},
     "output_type": "execute_result"
    }
   ],
   "source": [
    "'''\n",
    "WITH df AS (SELECT\n",
    "    EXTRACT(DAY FROM creation_date::DATE) AS days,\n",
    "    COUNT(id) AS users_up\n",
    "FROM stackoverflow.users\n",
    "    WHERE creation_date::DATE BETWEEN '01.11.2008' AND '30.11.2008'\n",
    "GROUP BY 1)\n",
    "\n",
    "SELECT *,\n",
    "    SUM(users_up) OVER (order by days)\n",
    "FROM df\n",
    "'''"
   ]
  },
  {
   "cell_type": "markdown",
   "id": "f050b839-6e01-4612-aa39-b7000c6606b3",
   "metadata": {},
   "source": [
    "**Задача 13** - Для каждого пользователя, который написал хотя бы один пост, найдите интервал между регистрацией и временем создания первого поста. \n",
    "Отобразите:\n",
    "- идентификатор пользователя;\n",
    "- разницу во времени между регистрацией и первым постом."
   ]
  },
  {
   "cell_type": "code",
   "execution_count": 26,
   "id": "506f9eb8-d9e2-4035-b330-5d641504f663",
   "metadata": {
    "tags": []
   },
   "outputs": [
    {
     "data": {
      "text/plain": [
       "'\\nWITH df AS (\\n    SELECT\\n        DISTINCT user_id,\\n        MIN(creation_date) OVER (PARTITION BY user_id) min_post\\n    FROM stackoverflow.posts)\\n\\nSELECT\\n    u.id,\\n    (post.min_post - u.creation_date )\\nFROM df AS post\\nJOIN stackoverflow.users AS u ON u.id = post.user_id\\n'"
      ]
     },
     "execution_count": 26,
     "metadata": {},
     "output_type": "execute_result"
    }
   ],
   "source": [
    "'''\n",
    "WITH df AS (\n",
    "    SELECT\n",
    "        DISTINCT user_id,\n",
    "        MIN(creation_date) OVER (PARTITION BY user_id) min_post\n",
    "    FROM stackoverflow.posts)\n",
    "\n",
    "SELECT\n",
    "    u.id,\n",
    "    (post.min_post - u.creation_date )\n",
    "FROM df AS post\n",
    "JOIN stackoverflow.users AS u ON u.id = post.user_id\n",
    "'''"
   ]
  },
  {
   "cell_type": "markdown",
   "id": "8eb50530-2762-4a8c-9b8d-ae6934ec04ee",
   "metadata": {},
   "source": [
    "**Задача 14** - Выведите общую сумму просмотров постов за каждый месяц 2008 года. Если данных за какой-либо месяц в базе нет, такой месяц можно пропустить. Результат отсортируйте по убыванию общего количества просмотров."
   ]
  },
  {
   "cell_type": "code",
   "execution_count": 27,
   "id": "1b33ad13-62c7-4475-995a-987bff545f79",
   "metadata": {},
   "outputs": [
    {
     "data": {
      "text/plain": [
       "\"\\nSELECT\\n    DATE_TRUNC('month', creation_date)::DATE AS monthh,\\n    SUM(views_count)\\nFROM stackoverflow.posts\\nWHERE EXTRACT(YEAR FROM creation_date::DATE) = '2008'\\nGROUP BY 1\\nORDER BY 2 DESC\\n\""
      ]
     },
     "execution_count": 27,
     "metadata": {},
     "output_type": "execute_result"
    }
   ],
   "source": [
    "'''\n",
    "SELECT\n",
    "    DATE_TRUNC('month', creation_date)::DATE AS monthh,\n",
    "    SUM(views_count)\n",
    "FROM stackoverflow.posts\n",
    "WHERE EXTRACT(YEAR FROM creation_date::DATE) = '2008'\n",
    "GROUP BY 1\n",
    "ORDER BY 2 DESC\n",
    "'''"
   ]
  },
  {
   "cell_type": "markdown",
   "id": "8304982d-b3a6-4305-a922-633f2c6e4614",
   "metadata": {},
   "source": [
    "**Задача 15** - Выведите имена самых активных пользователей, которые в первый месяц после регистрации (включая день регистрации) дали больше 100 ответов. Вопросы, которые задавали пользователи, не учитывайте. Для каждого имени пользователя выведите количество уникальных значений user_id. Отсортируйте результат по полю с именами в лексикографическом порядке."
   ]
  },
  {
   "cell_type": "code",
   "execution_count": 28,
   "id": "c80af04c-3302-4fde-a407-aef2d415cfd7",
   "metadata": {},
   "outputs": [
    {
     "data": {
      "text/plain": [
       "\"\\nSELECT\\n    u.display_name,\\n    COUNT(DISTINCT p.user_id)\\nFROM stackoverflow.posts AS p\\nJOIN stackoverflow.users AS u ON p.user_id = u.id\\nJOIN stackoverflow.post_types AS pt ON pt.id = p.post_type_id\\nWHERE p.creation_date::DATE BETWEEN u.creation_date::DATE AND (u.creation_date::DATE + INTERVAL '1 month')\\n    AND pt.type LIKE '%Answer%'\\nGROUP BY 1\\nHAVING COUNT(p.user_id) > 100\\nORDER BY 1\\n\""
      ]
     },
     "execution_count": 28,
     "metadata": {},
     "output_type": "execute_result"
    }
   ],
   "source": [
    "'''\n",
    "SELECT\n",
    "    u.display_name,\n",
    "    COUNT(DISTINCT p.user_id)\n",
    "FROM stackoverflow.posts AS p\n",
    "JOIN stackoverflow.users AS u ON p.user_id = u.id\n",
    "JOIN stackoverflow.post_types AS pt ON pt.id = p.post_type_id\n",
    "WHERE p.creation_date::DATE BETWEEN u.creation_date::DATE AND (u.creation_date::DATE + INTERVAL '1 month')\n",
    "    AND pt.type LIKE '%Answer%'\n",
    "GROUP BY 1\n",
    "HAVING COUNT(p.user_id) > 100\n",
    "ORDER BY 1\n",
    "'''"
   ]
  },
  {
   "cell_type": "markdown",
   "id": "f6221988-6cb4-426e-a83e-4e27b85e4b4f",
   "metadata": {},
   "source": [
    "**Задача 16** - Выведите количество постов за 2008 год по месяцам. Отберите посты от пользователей, которые зарегистрировались в сентябре 2008 года и сделали хотя бы один пост в декабре того же года. Отсортируйте таблицу по значению месяца по убыванию."
   ]
  },
  {
   "cell_type": "code",
   "execution_count": 29,
   "id": "4837e507-7899-41c7-9305-e5a5ba1e5b0f",
   "metadata": {
    "tags": []
   },
   "outputs": [
    {
     "data": {
      "text/plain": [
       "\"\\nWITH df AS (\\n    SELECT u.id\\n    FROM stackoverflow.users AS u\\n    JOIN stackoverflow.posts AS p ON u.id = p.user_id\\n    WHERE DATE_TRUNC('month', u.creation_date)::date = '2008-09-01'\\n              AND DATE_TRUNC('month', p.creation_date)::date = '2008-12-01'\\n    GROUP BY 1\\n    HAVING COUNT(u.id) > 0    \\n)\\n\\nSELECT\\n    DATE_TRUNC('month', p.creation_date)::date,\\n    COUNT(DISTINCT p.id)\\nFROM stackoverflow.posts p\\nWHERE p.user_id IN (SELECT * FROM df)\\n    AND EXTRACT(YEAR FROM p.creation_date::DATE) = 2008\\nGROUP BY 1 \\nORDER BY 1 DESC \\n\""
      ]
     },
     "execution_count": 29,
     "metadata": {},
     "output_type": "execute_result"
    }
   ],
   "source": [
    "'''\n",
    "WITH df AS (\n",
    "    SELECT u.id\n",
    "    FROM stackoverflow.users AS u\n",
    "    JOIN stackoverflow.posts AS p ON u.id = p.user_id\n",
    "    WHERE DATE_TRUNC('month', u.creation_date)::date = '2008-09-01'\n",
    "              AND DATE_TRUNC('month', p.creation_date)::date = '2008-12-01'\n",
    "    GROUP BY 1\n",
    "    HAVING COUNT(u.id) > 0    \n",
    ")\n",
    "\n",
    "SELECT\n",
    "    DATE_TRUNC('month', p.creation_date)::date,\n",
    "    COUNT(DISTINCT p.id)\n",
    "FROM stackoverflow.posts p\n",
    "WHERE p.user_id IN (SELECT * FROM df)\n",
    "    AND EXTRACT(YEAR FROM p.creation_date::DATE) = 2008\n",
    "GROUP BY 1 \n",
    "ORDER BY 1 DESC \n",
    "'''"
   ]
  },
  {
   "cell_type": "markdown",
   "id": "cb74d36d-6fe3-4689-a5fa-61ed51ac588a",
   "metadata": {},
   "source": [
    "**Задача 17** - Используя данные о постах, выведите несколько полей:\n",
    "- идентификатор пользователя, который написал пост;\n",
    "- дата создания поста;\n",
    "- количество просмотров у текущего поста;\n",
    "- сумму просмотров постов автора с накоплением.\n",
    "\n",
    "Данные в таблице должны быть отсортированы по возрастанию идентификаторов пользователей, а данные об одном и том же пользователе — по возрастанию даты создания поста."
   ]
  },
  {
   "cell_type": "code",
   "execution_count": 30,
   "id": "5c4b58e1-d4ec-4a0f-992e-39fa369c6ce5",
   "metadata": {},
   "outputs": [
    {
     "data": {
      "text/plain": [
       "'\\nSELECT\\n    user_id,\\n    creation_date,\\n    views_count,\\n    SUM(views_count) OVER (PARTITION BY user_id ORDER BY creation_date)\\nFROM stackoverflow.posts\\n'"
      ]
     },
     "execution_count": 30,
     "metadata": {},
     "output_type": "execute_result"
    }
   ],
   "source": [
    "'''\n",
    "SELECT\n",
    "    user_id,\n",
    "    creation_date,\n",
    "    views_count,\n",
    "    SUM(views_count) OVER (PARTITION BY user_id ORDER BY creation_date)\n",
    "FROM stackoverflow.posts\n",
    "'''"
   ]
  },
  {
   "cell_type": "markdown",
   "id": "1663a6c3-da3a-4a9f-9795-41e614e96b12",
   "metadata": {},
   "source": [
    "**Задача 18** - Сколько в среднем дней в период с 1 по 7 декабря 2008 года включительно пользователи взаимодействовали с платформой? Для каждого пользователя отберите дни, в которые он или она опубликовали хотя бы один пост. Нужно получить одно целое число — не забудьте округлить результат."
   ]
  },
  {
   "cell_type": "code",
   "execution_count": 31,
   "id": "2f13b679-2376-437d-9ba7-beaa518c950e",
   "metadata": {},
   "outputs": [
    {
     "data": {
      "text/plain": [
       "\"\\nWITH df AS\\n(SELECT\\n    user_id,\\n    COUNT(DISTINCT creation_date::DATE) AS cnt\\nFROM stackoverflow.posts\\nWHERE creation_date::DATE BETWEEN '01.12.2008' AND '07.12.2008'\\nGROUP BY 1)\\n\\nSELECT\\n    ROUND(AVG(cnt))\\nFROM df\\n\""
      ]
     },
     "execution_count": 31,
     "metadata": {},
     "output_type": "execute_result"
    }
   ],
   "source": [
    "'''\n",
    "WITH df AS\n",
    "(SELECT\n",
    "    user_id,\n",
    "    COUNT(DISTINCT creation_date::DATE) AS cnt\n",
    "FROM stackoverflow.posts\n",
    "WHERE creation_date::DATE BETWEEN '01.12.2008' AND '07.12.2008'\n",
    "GROUP BY 1)\n",
    "\n",
    "SELECT\n",
    "    ROUND(AVG(cnt))\n",
    "FROM df\n",
    "'''"
   ]
  },
  {
   "cell_type": "markdown",
   "id": "d4cb240d-0276-457c-8ed0-abf2cebfcd17",
   "metadata": {},
   "source": [
    "**Задача 19** - На сколько процентов менялось количество постов ежемесячно с 1 сентября по 31 декабря 2008 года? Отобразите таблицу со следующими полями:\n",
    "- номер месяца;\n",
    "- количество постов за месяц;\n",
    "- процент, который показывает, насколько изменилось количество постов в текущем месяце по сравнению с предыдущим.\n",
    "\n",
    "Если постов стало меньше, значение процента должно быть отрицательным, если больше — положительным. Округлите значение процента до двух знаков после запятой.\n",
    "Напомним, что при делении одного целого числа на другое в PostgreSQL в результате получится целое число, округлённое до ближайшего целого вниз. Чтобы этого избежать, переведите делимое в тип numeric."
   ]
  },
  {
   "cell_type": "code",
   "execution_count": 32,
   "id": "aee75669-8692-4d88-a8c7-aeb30a139a4a",
   "metadata": {},
   "outputs": [
    {
     "data": {
      "text/plain": [
       "\"\\nWITH df AS (\\nSELECT\\n    EXTRACT('month' FROM creation_date::DATE),\\n    COUNT(DISTINCT id) AS cnt\\nFROM stackoverflow.posts\\nWHERE creation_date::DATE BETWEEN '01.09.2008' AND '31.12.2008'\\nGROUP BY 1)\\n\\nSELECT\\n    *,\\n    ROUND((cnt::numeric / LAG(cnt) OVER () - 1) * 100, 2)\\nFROM df\\n\""
      ]
     },
     "execution_count": 32,
     "metadata": {},
     "output_type": "execute_result"
    }
   ],
   "source": [
    "'''\n",
    "WITH df AS (\n",
    "SELECT\n",
    "    EXTRACT('month' FROM creation_date::DATE),\n",
    "    COUNT(DISTINCT id) AS cnt\n",
    "FROM stackoverflow.posts\n",
    "WHERE creation_date::DATE BETWEEN '01.09.2008' AND '31.12.2008'\n",
    "GROUP BY 1)\n",
    "\n",
    "SELECT\n",
    "    *,\n",
    "    ROUND((cnt::numeric / LAG(cnt) OVER () - 1) * 100, 2)\n",
    "FROM df\n",
    "'''"
   ]
  },
  {
   "cell_type": "markdown",
   "id": "8b619abe-6ed1-426c-907f-2762244d4d4a",
   "metadata": {},
   "source": [
    "**Задача 20** - \n",
    "Выгрузите данные активности пользователя, который опубликовал больше всего постов за всё время. Выведите данные за октябрь 2008 года в таком виде:\n",
    "- номер недели;\n",
    "- дата и время последнего поста, опубликованного на этой неделе."
   ]
  },
  {
   "cell_type": "code",
   "execution_count": 33,
   "id": "687277ef-f764-4249-86d9-0f274949f60e",
   "metadata": {
    "tags": []
   },
   "outputs": [
    {
     "data": {
      "text/plain": [
       "\"\\nWITH best AS (\\n    SELECT\\n        user_id,\\n        COUNT(DISTINCT id)\\n    FROM stackoverflow.posts\\n    GROUP BY 1\\n    ORDER BY 2 DESC\\n    LIMIT 1),\\n    df AS (\\n    SELECT\\n        user_id,\\n        creation_date AS date,\\n        EXTRACT('week' FROM creation_date::DATE) AS week\\n    FROM stackoverflow.posts\\n    WHERE user_id IN (SELECT user_id FROM best)\\n    AND DATE_TRUNC('month', creation_date)::DATE = '2008-10-01' )\\n\\nSELECT DISTINCT week::numeric,\\n    MAX(date) OVER (PARTITION BY week)\\nFROM df\\nORDER BY 1\\n\""
      ]
     },
     "execution_count": 33,
     "metadata": {},
     "output_type": "execute_result"
    }
   ],
   "source": [
    "'''\n",
    "WITH best AS (\n",
    "    SELECT\n",
    "        user_id,\n",
    "        COUNT(DISTINCT id)\n",
    "    FROM stackoverflow.posts\n",
    "    GROUP BY 1\n",
    "    ORDER BY 2 DESC\n",
    "    LIMIT 1),\n",
    "    df AS (\n",
    "    SELECT\n",
    "        user_id,\n",
    "        creation_date AS date,\n",
    "        EXTRACT('week' FROM creation_date::DATE) AS week\n",
    "    FROM stackoverflow.posts\n",
    "    WHERE user_id IN (SELECT user_id FROM best)\n",
    "    AND DATE_TRUNC('month', creation_date)::DATE = '2008-10-01' )\n",
    "\n",
    "SELECT DISTINCT week::numeric,\n",
    "    MAX(date) OVER (PARTITION BY week)\n",
    "FROM df\n",
    "ORDER BY 1\n",
    "'''"
   ]
  }
 ],
 "metadata": {
  "kernelspec": {
   "display_name": "Python 3 (ipykernel)",
   "language": "python",
   "name": "python3"
  },
  "language_info": {
   "codemirror_mode": {
    "name": "ipython",
    "version": 3
   },
   "file_extension": ".py",
   "mimetype": "text/x-python",
   "name": "python",
   "nbconvert_exporter": "python",
   "pygments_lexer": "ipython3",
   "version": "3.9.16"
  }
 },
 "nbformat": 4,
 "nbformat_minor": 5
}
